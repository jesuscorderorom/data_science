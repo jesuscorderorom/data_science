{
 "cells": [
  {
   "cell_type": "code",
   "execution_count": 1,
   "id": "e984b2ce",
   "metadata": {},
   "outputs": [],
   "source": [
    "import pandas as pd\n",
    "import numpy as np\n",
    "import matplotlib.pyplot as plt\n",
    "import seaborn as sns\n",
    "import re"
   ]
  },
  {
   "cell_type": "code",
   "execution_count": 2,
   "id": "438cfc6d",
   "metadata": {},
   "outputs": [],
   "source": [
    "sk_less5 = pd.read_csv('Lessthan_5_victim_count.csv')\n",
    "sk_5to14 = pd.read_csv('5_to_14_victim_count.csv')\n",
    "sk_15to30 = pd.read_csv('15_to_30_victim_count.csv')\n",
    "sk_highest = pd.read_csv('Highest_victim_count.csv')\n",
    "sk = pd.concat([sk_less5,sk_5to14,sk_15to30,sk_highest], axis = 0)\n",
    "sk.reset_index(drop=True, inplace=True)"
   ]
  },
  {
   "cell_type": "markdown",
   "id": "9fe24b79",
   "metadata": {},
   "source": [
    "First I'm going to check if everything I did in the previous cell is correct."
   ]
  },
  {
   "cell_type": "code",
   "execution_count": 3,
   "id": "a70049e2",
   "metadata": {
    "scrolled": true
   },
   "outputs": [
    {
     "data": {
      "text/html": [
       "<div>\n",
       "<style scoped>\n",
       "    .dataframe tbody tr th:only-of-type {\n",
       "        vertical-align: middle;\n",
       "    }\n",
       "\n",
       "    .dataframe tbody tr th {\n",
       "        vertical-align: top;\n",
       "    }\n",
       "\n",
       "    .dataframe thead th {\n",
       "        text-align: right;\n",
       "    }\n",
       "</style>\n",
       "<table border=\"1\" class=\"dataframe\">\n",
       "  <thead>\n",
       "    <tr style=\"text-align: right;\">\n",
       "      <th></th>\n",
       "      <th>Name</th>\n",
       "      <th>Country</th>\n",
       "      <th>Years active</th>\n",
       "      <th>Proven victims</th>\n",
       "      <th>Possible victims</th>\n",
       "      <th>Notes</th>\n",
       "    </tr>\n",
       "  </thead>\n",
       "  <tbody>\n",
       "    <tr>\n",
       "      <th>262</th>\n",
       "      <td>Atlanta Ripper</td>\n",
       "      <td>United States</td>\n",
       "      <td>1911</td>\n",
       "      <td>15</td>\n",
       "      <td>21</td>\n",
       "      <td>Unidentified serial killer(s) who killed at le...</td>\n",
       "    </tr>\n",
       "    <tr>\n",
       "      <th>127</th>\n",
       "      <td>Louis van Schoor</td>\n",
       "      <td>South Africa</td>\n",
       "      <td>1986 to 1989</td>\n",
       "      <td>9</td>\n",
       "      <td>100</td>\n",
       "      <td>Former security guard who was convicted of sev...</td>\n",
       "    </tr>\n",
       "    <tr>\n",
       "      <th>86</th>\n",
       "      <td>Benjamin Atkins</td>\n",
       "      <td>United States</td>\n",
       "      <td>1991 to 1992</td>\n",
       "      <td>11</td>\n",
       "      <td>NaN</td>\n",
       "      <td>Known as \"The Woodward Corridor Killer\". Raped...</td>\n",
       "    </tr>\n",
       "    <tr>\n",
       "      <th>166</th>\n",
       "      <td>Ohio Prostitute Killer</td>\n",
       "      <td>United States</td>\n",
       "      <td>1981 to 2004</td>\n",
       "      <td>7</td>\n",
       "      <td>10</td>\n",
       "      <td>Supposedly murdered prostitutes and exotic dan...</td>\n",
       "    </tr>\n",
       "    <tr>\n",
       "      <th>102</th>\n",
       "      <td>Ruslan Khamarov</td>\n",
       "      <td>Ukraine</td>\n",
       "      <td>2000 to 2003</td>\n",
       "      <td>11</td>\n",
       "      <td>NaN</td>\n",
       "      <td>Seduced, raped and then killed women in his ho...</td>\n",
       "    </tr>\n",
       "  </tbody>\n",
       "</table>\n",
       "</div>"
      ],
      "text/plain": [
       "                       Name        Country  Years active Proven victims  \\\n",
       "262          Atlanta Ripper  United States          1911             15   \n",
       "127        Louis van Schoor   South Africa  1986 to 1989              9   \n",
       "86          Benjamin Atkins  United States  1991 to 1992             11   \n",
       "166  Ohio Prostitute Killer  United States  1981 to 2004              7   \n",
       "102         Ruslan Khamarov        Ukraine  2000 to 2003             11   \n",
       "\n",
       "    Possible victims                                              Notes  \n",
       "262               21  Unidentified serial killer(s) who killed at le...  \n",
       "127              100  Former security guard who was convicted of sev...  \n",
       "86               NaN  Known as \"The Woodward Corridor Killer\". Raped...  \n",
       "166               10  Supposedly murdered prostitutes and exotic dan...  \n",
       "102              NaN  Seduced, raped and then killed women in his ho...  "
      ]
     },
     "execution_count": 3,
     "metadata": {},
     "output_type": "execute_result"
    }
   ],
   "source": [
    "sk.sample(n=5)\n",
    "# Looks like everything is fine"
   ]
  },
  {
   "cell_type": "markdown",
   "id": "c54b65c6",
   "metadata": {},
   "source": [
    "Obtaining some info about the dataset is always a good way to start."
   ]
  },
  {
   "cell_type": "code",
   "execution_count": 4,
   "id": "7a48e551",
   "metadata": {},
   "outputs": [
    {
     "name": "stdout",
     "output_type": "stream",
     "text": [
      "<class 'pandas.core.frame.DataFrame'>\n",
      "RangeIndex: 305 entries, 0 to 304\n",
      "Data columns (total 6 columns):\n",
      " #   Column            Non-Null Count  Dtype \n",
      "---  ------            --------------  ----- \n",
      " 0   Name              305 non-null    object\n",
      " 1   Country           305 non-null    object\n",
      " 2   Years active      305 non-null    object\n",
      " 3   Proven victims    305 non-null    object\n",
      " 4   Possible victims  237 non-null    object\n",
      " 5   Notes             305 non-null    object\n",
      "dtypes: object(6)\n",
      "memory usage: 14.4+ KB\n"
     ]
    }
   ],
   "source": [
    "sk.info()"
   ]
  },
  {
   "cell_type": "markdown",
   "id": "ecef6578",
   "metadata": {},
   "source": [
    "All the columns are object type, so I'm going to see what are the unique values for each column and try to clean and create new variables for the later visualization. Also there's a column that has missing values (Possible victims)."
   ]
  },
  {
   "cell_type": "markdown",
   "id": "63c31ea1",
   "metadata": {},
   "source": [
    "### Country"
   ]
  },
  {
   "cell_type": "code",
   "execution_count": 5,
   "id": "b1273ab5",
   "metadata": {
    "scrolled": true
   },
   "outputs": [
    {
     "data": {
      "text/plain": [
       "array(['United States',\n",
       "       'United Kingdom\\r\\nIreland (suspected)\\r\\nWest Germany (suspected)\\r\\nNetherlands (suspected)\\r\\nFrance (suspected)',\n",
       "       'Austria', 'Italy', 'Indonesia', 'Soviet Union', 'United Kingdom',\n",
       "       'Mexico', 'Allied-occupied Germany\\r\\nWest Germany', 'Netherlands',\n",
       "       'Japan', 'Turkey', 'Poland', 'West Germany', 'Brazil', 'Chile',\n",
       "       'Russia', 'South Korea', 'Pakistan', 'Latvia', 'South Africa',\n",
       "       'Argentina', 'Soviet Union\\r\\nRussia', 'Tunisia', 'Germany',\n",
       "       'Thailand\\r\\nNepal\\r\\nIndia\\r\\nMalaysia', 'Yemen', 'Spain',\n",
       "       'Australia', 'China', 'Austria\\r\\nUnited States\\r\\nCzechoslovakia',\n",
       "       'Canada', 'France', 'Bangladesh', 'Belgium', 'Ukraine', 'India',\n",
       "       'Soviet Union\\r\\nRussia\\r\\nUkraine',\n",
       "       'East Germany\\r\\nGermany\\r\\nFrance\\r\\nSpain\\r\\nCzech Republic (suspected)\\r\\nItaly (suspected)',\n",
       "       'German Empire\\r\\nGermany', 'Denmark', 'China\\r\\nJapan',\n",
       "       'Spain\\r\\nFrance (claimed)\\r\\nItaly (claimed)',\n",
       "       'Canada\\r\\nUnited States', 'Colombia', 'Cyprus', 'Belarus',\n",
       "       'Costa Rica', 'United States\\r\\n Portuguese Angola',\n",
       "       'Switzerland\\r\\nFrance\\r\\nUnited States\\r\\nYugoslavia (suspected)\\r\\nItaly (suspected)',\n",
       "       'Czechoslovakia', 'Singapore', 'Swaziland', 'Greece',\n",
       "       'Austria-Hungary', 'Iran',\n",
       "       'France\\r\\nGermany (suspected)\\r\\nSwitzerland (suspected)',\n",
       "       'Ecuador', 'United States\\r\\nCanada',\n",
       "       'Soviet Union\\r\\nRussia\\r\\nTajikistan', 'Romania', 'Afghanistan',\n",
       "       'Peru', 'France\\r\\nBelgium', 'Venezuela',\n",
       "       'United States\\r\\nMexico', 'Colombia\\r\\nEcuador\\r\\nVenezuela',\n",
       "       'Colombia\\r\\nPeru\\r\\nEcuador',\n",
       "       'Colombia\\r\\nEcuador\\r\\nBrazil (alleged)',\n",
       "       'Soviet Union\\r\\nUkraine', 'Morocco',\n",
       "       'Kingdom of Romania\\r\\nYugoslavia\\r\\nHungary (alleged)',\n",
       "       'Ottoman Empire\\r\\n Iraq\\r\\n Iran', 'Egypt'], dtype=object)"
      ]
     },
     "execution_count": 5,
     "metadata": {},
     "output_type": "execute_result"
    }
   ],
   "source": [
    "sk.Country.unique()"
   ]
  },
  {
   "cell_type": "markdown",
   "id": "729ba4f0",
   "metadata": {},
   "source": [
    "Since the rows that have more than one country are separated by '\\r\\n' I will split them and I will count how many of them there are in each row."
   ]
  },
  {
   "cell_type": "code",
   "execution_count": 13,
   "id": "16d304a4",
   "metadata": {},
   "outputs": [],
   "source": [
    "sk['Countries_active'] = sk.Country.apply(lambda x: x.split('\\r\\n'))"
   ]
  },
  {
   "cell_type": "code",
   "execution_count": 14,
   "id": "5caac7f6",
   "metadata": {},
   "outputs": [],
   "source": [
    "sk['Countries_num'] = sk['Countries_active'].apply(lambda x: len(x))"
   ]
  },
  {
   "cell_type": "code",
   "execution_count": 15,
   "id": "c1864385",
   "metadata": {},
   "outputs": [
    {
     "data": {
      "text/html": [
       "<div>\n",
       "<style scoped>\n",
       "    .dataframe tbody tr th:only-of-type {\n",
       "        vertical-align: middle;\n",
       "    }\n",
       "\n",
       "    .dataframe tbody tr th {\n",
       "        vertical-align: top;\n",
       "    }\n",
       "\n",
       "    .dataframe thead th {\n",
       "        text-align: right;\n",
       "    }\n",
       "</style>\n",
       "<table border=\"1\" class=\"dataframe\">\n",
       "  <thead>\n",
       "    <tr style=\"text-align: right;\">\n",
       "      <th></th>\n",
       "      <th>Name</th>\n",
       "      <th>Country</th>\n",
       "      <th>Years active</th>\n",
       "      <th>Proven victims</th>\n",
       "      <th>Possible victims</th>\n",
       "      <th>Notes</th>\n",
       "      <th>Countries_active</th>\n",
       "      <th>Countries_num</th>\n",
       "    </tr>\n",
       "  </thead>\n",
       "  <tbody>\n",
       "    <tr>\n",
       "      <th>0</th>\n",
       "      <td>Charlie Brandt</td>\n",
       "      <td>United States</td>\n",
       "      <td>1971 to 2004</td>\n",
       "      <td>4</td>\n",
       "      <td>29</td>\n",
       "      <td>Committed suicide by hanging after murdering h...</td>\n",
       "      <td>[United States]</td>\n",
       "      <td>1</td>\n",
       "    </tr>\n",
       "    <tr>\n",
       "      <th>1</th>\n",
       "      <td>Robert Black</td>\n",
       "      <td>United Kingdom\\r\\nIreland (suspected)\\r\\nWest ...</td>\n",
       "      <td>1981 to 1986</td>\n",
       "      <td>4</td>\n",
       "      <td>18+</td>\n",
       "      <td>Convicted of kidnapping, raping and murdering ...</td>\n",
       "      <td>[United Kingdom, Ireland (suspected), West Ger...</td>\n",
       "      <td>5</td>\n",
       "    </tr>\n",
       "    <tr>\n",
       "      <th>2</th>\n",
       "      <td>Max Gufler</td>\n",
       "      <td>Austria</td>\n",
       "      <td>1946 to 1958</td>\n",
       "      <td>4</td>\n",
       "      <td>18</td>\n",
       "      <td>Poisoned and drowned four women, but suspected...</td>\n",
       "      <td>[Austria]</td>\n",
       "      <td>1</td>\n",
       "    </tr>\n",
       "    <tr>\n",
       "      <th>3</th>\n",
       "      <td>Ernesto Picchioni</td>\n",
       "      <td>Italy</td>\n",
       "      <td>1949 and earlier</td>\n",
       "      <td>4</td>\n",
       "      <td>16</td>\n",
       "      <td>Murdered people who approached his home; died ...</td>\n",
       "      <td>[Italy]</td>\n",
       "      <td>1</td>\n",
       "    </tr>\n",
       "    <tr>\n",
       "      <th>4</th>\n",
       "      <td>Baekuni</td>\n",
       "      <td>Indonesia</td>\n",
       "      <td>1993 to 2010</td>\n",
       "      <td>4</td>\n",
       "      <td>14</td>\n",
       "      <td>Pedophile who raped and killed young boys; ini...</td>\n",
       "      <td>[Indonesia]</td>\n",
       "      <td>1</td>\n",
       "    </tr>\n",
       "  </tbody>\n",
       "</table>\n",
       "</div>"
      ],
      "text/plain": [
       "                Name                                            Country  \\\n",
       "0     Charlie Brandt                                      United States   \n",
       "1       Robert Black  United Kingdom\\r\\nIreland (suspected)\\r\\nWest ...   \n",
       "2         Max Gufler                                            Austria   \n",
       "3  Ernesto Picchioni                                              Italy   \n",
       "4            Baekuni                                          Indonesia   \n",
       "\n",
       "       Years active Proven victims Possible victims  \\\n",
       "0      1971 to 2004              4               29   \n",
       "1      1981 to 1986              4              18+   \n",
       "2      1946 to 1958              4               18   \n",
       "3  1949 and earlier              4               16   \n",
       "4      1993 to 2010              4               14   \n",
       "\n",
       "                                               Notes  \\\n",
       "0  Committed suicide by hanging after murdering h...   \n",
       "1  Convicted of kidnapping, raping and murdering ...   \n",
       "2  Poisoned and drowned four women, but suspected...   \n",
       "3  Murdered people who approached his home; died ...   \n",
       "4  Pedophile who raped and killed young boys; ini...   \n",
       "\n",
       "                                    Countries_active  Countries_num  \n",
       "0                                    [United States]              1  \n",
       "1  [United Kingdom, Ireland (suspected), West Ger...              5  \n",
       "2                                          [Austria]              1  \n",
       "3                                            [Italy]              1  \n",
       "4                                        [Indonesia]              1  "
      ]
     },
     "execution_count": 15,
     "metadata": {},
     "output_type": "execute_result"
    }
   ],
   "source": [
    "sk.head()"
   ]
  },
  {
   "cell_type": "markdown",
   "id": "f2828352",
   "metadata": {},
   "source": [
    "### Proven victims"
   ]
  },
  {
   "cell_type": "code",
   "execution_count": 16,
   "id": "695012b6",
   "metadata": {
    "scrolled": true
   },
   "outputs": [
    {
     "data": {
      "text/plain": [
       "array([4, 3, '14', '13', '12', '11–16', '11', '10', '9–13', '9', '8',\n",
       "       '8–15', '8–11+', '7', '6', '5', 30, 28, 27, 26, 25, 24, 23, 22, 21,\n",
       "       20, 19, 18, 17, 16, 15, 138, 110, 100, 83, 72, 71, 70, 67, 60, 58,\n",
       "       53, 52, 50, 49, 48, 45, 42, 41, 39, 38, 36, 35, 33, 32],\n",
       "      dtype=object)"
      ]
     },
     "execution_count": 16,
     "metadata": {},
     "output_type": "execute_result"
    }
   ],
   "source": [
    "sk['Proven victims'].unique()"
   ]
  },
  {
   "cell_type": "markdown",
   "id": "c3cffd91",
   "metadata": {},
   "source": [
    "First of all, if the column is proven victims, why are there some values that are intervals? For those that are intervals I'm going to get the highest number."
   ]
  },
  {
   "cell_type": "code",
   "execution_count": 17,
   "id": "c48a37a9",
   "metadata": {
    "scrolled": true
   },
   "outputs": [
    {
     "data": {
      "text/html": [
       "<div>\n",
       "<style scoped>\n",
       "    .dataframe tbody tr th:only-of-type {\n",
       "        vertical-align: middle;\n",
       "    }\n",
       "\n",
       "    .dataframe tbody tr th {\n",
       "        vertical-align: top;\n",
       "    }\n",
       "\n",
       "    .dataframe thead th {\n",
       "        text-align: right;\n",
       "    }\n",
       "</style>\n",
       "<table border=\"1\" class=\"dataframe\">\n",
       "  <thead>\n",
       "    <tr style=\"text-align: right;\">\n",
       "      <th></th>\n",
       "      <th>Name</th>\n",
       "      <th>Country</th>\n",
       "      <th>Years active</th>\n",
       "      <th>Proven victims</th>\n",
       "      <th>Possible victims</th>\n",
       "      <th>Notes</th>\n",
       "      <th>Countries_active</th>\n",
       "      <th>Countries_num</th>\n",
       "    </tr>\n",
       "  </thead>\n",
       "  <tbody>\n",
       "    <tr>\n",
       "      <th>79</th>\n",
       "      <td>Herb Baumeister</td>\n",
       "      <td>United States</td>\n",
       "      <td>1990 to 1996</td>\n",
       "      <td>11–16</td>\n",
       "      <td>25+</td>\n",
       "      <td>Strangled gay men and buried their bodies in h...</td>\n",
       "      <td>[United States]</td>\n",
       "      <td>1</td>\n",
       "    </tr>\n",
       "    <tr>\n",
       "      <th>126</th>\n",
       "      <td>Volker Eckert</td>\n",
       "      <td>East Germany\\r\\nGermany\\r\\nFrance\\r\\nSpain\\r\\n...</td>\n",
       "      <td>1974 to 2006</td>\n",
       "      <td>9–13</td>\n",
       "      <td>19+</td>\n",
       "      <td>German trucker who confessed to having abducte...</td>\n",
       "      <td>[East Germany, Germany, France, Spain, Czech R...</td>\n",
       "      <td>6</td>\n",
       "    </tr>\n",
       "    <tr>\n",
       "      <th>144</th>\n",
       "      <td>Joseph Paul Franklin</td>\n",
       "      <td>United States</td>\n",
       "      <td>1977 to 1980</td>\n",
       "      <td>8–15</td>\n",
       "      <td>20</td>\n",
       "      <td>White supremacist shooter who confessed to 20 ...</td>\n",
       "      <td>[United States]</td>\n",
       "      <td>1</td>\n",
       "    </tr>\n",
       "    <tr>\n",
       "      <th>145</th>\n",
       "      <td>Yoshio Kodaira</td>\n",
       "      <td>China\\r\\nJapan</td>\n",
       "      <td>1928? to 1946</td>\n",
       "      <td>8–11+</td>\n",
       "      <td>Unknown</td>\n",
       "      <td>A serial rapist, Kodaira killed his father-in-...</td>\n",
       "      <td>[China, Japan]</td>\n",
       "      <td>2</td>\n",
       "    </tr>\n",
       "  </tbody>\n",
       "</table>\n",
       "</div>"
      ],
      "text/plain": [
       "                     Name                                            Country  \\\n",
       "79        Herb Baumeister                                      United States   \n",
       "126         Volker Eckert  East Germany\\r\\nGermany\\r\\nFrance\\r\\nSpain\\r\\n...   \n",
       "144  Joseph Paul Franklin                                      United States   \n",
       "145        Yoshio Kodaira                                     China\\r\\nJapan   \n",
       "\n",
       "      Years active Proven victims Possible victims  \\\n",
       "79    1990 to 1996          11–16              25+   \n",
       "126   1974 to 2006           9–13              19+   \n",
       "144   1977 to 1980           8–15               20   \n",
       "145  1928? to 1946          8–11+          Unknown   \n",
       "\n",
       "                                                 Notes  \\\n",
       "79   Strangled gay men and buried their bodies in h...   \n",
       "126  German trucker who confessed to having abducte...   \n",
       "144  White supremacist shooter who confessed to 20 ...   \n",
       "145  A serial rapist, Kodaira killed his father-in-...   \n",
       "\n",
       "                                      Countries_active  Countries_num  \n",
       "79                                     [United States]              1  \n",
       "126  [East Germany, Germany, France, Spain, Czech R...              6  \n",
       "144                                    [United States]              1  \n",
       "145                                     [China, Japan]              2  "
      ]
     },
     "execution_count": 17,
     "metadata": {},
     "output_type": "execute_result"
    }
   ],
   "source": [
    "sk[(sk['Proven victims'] == '11–16') | (sk['Proven victims'] == '9–13') | (sk['Proven victims'] == '8–15') | (sk['Proven victims'] == '8–11+')]"
   ]
  },
  {
   "cell_type": "code",
   "execution_count": 18,
   "id": "96253060",
   "metadata": {},
   "outputs": [],
   "source": [
    "sk['Proven_victims'] = sk['Proven victims'].apply(lambda x: max([int(i) for i in str(re.sub('\\+$', '', str(x))).split('–')]))"
   ]
  },
  {
   "cell_type": "markdown",
   "id": "46b70daa",
   "metadata": {},
   "source": [
    "### Possible victims"
   ]
  },
  {
   "cell_type": "code",
   "execution_count": 19,
   "id": "1079cde3",
   "metadata": {},
   "outputs": [
    {
     "data": {
      "text/plain": [
       "array(['29', '18+', '18', '16', '14', '13', '12', '11+', '4+', '4', '3',\n",
       "       '50+', '48', '30', '20+', '17', '10', '9–25', '-', '9-100+', '8+',\n",
       "       '3+', '80+', '21+', nan, '44', '40+', '38+', '20', '16+', '15',\n",
       "       '13+', '100', '31–80+', '22', '15–16', 'Unknown', '25+', '29–49',\n",
       "       '17–20', '25', '11', '10+', '19+', '79', '34', '14+', '160',\n",
       "       '130+', '12+', '50–100', '43+', '23–37', '7', '70?', '15+', '6+',\n",
       "       '85–100', '37', '17–25', '5–22', '42+', '42', '45', '28', '35+',\n",
       "       '27+', '26', '24+', '24', '150', '23+', '23', '36+', '26+', '21',\n",
       "       '82+', '30+', '19', '65–67', '172–300+', '300+', '83+', '180',\n",
       "       '100+', '70+', '67', '93', '80-300', '56', '52+', '50', '49',\n",
       "       '71–90+', '60', '60+', '70–80+', '41', '~39', '76', '80–100',\n",
       "       '43–55+', '~35', '36–100+', '35', '34+', '33', '32+', '32'],\n",
       "      dtype=object)"
      ]
     },
     "execution_count": 19,
     "metadata": {},
     "output_type": "execute_result"
    }
   ],
   "source": [
    "sk['Possible victims'].unique()"
   ]
  },
  {
   "cell_type": "markdown",
   "id": "d82e8aeb",
   "metadata": {},
   "source": [
    "This column is a bit more complicated. First for those that have '+', '~' or '?' I will take only the number and delete the rest of the string. In this case I can understand that is possible that the value is an interval because it says possible thus the exact number is not known. I will calculate the mean of the interval. I the number is not exact it will be rounded up to the next int number. "
   ]
  },
  {
   "cell_type": "code",
   "execution_count": 20,
   "id": "585fdc87",
   "metadata": {},
   "outputs": [],
   "source": [
    "sk['Possible victims'] = sk['Possible victims'].apply(lambda x: np.nan if ((x == 'Unknown') | (x== '-')) else x)"
   ]
  },
  {
   "cell_type": "code",
   "execution_count": 21,
   "id": "2211a861",
   "metadata": {},
   "outputs": [],
   "source": [
    "sk['Possible_victims'] = sk['Possible victims'].apply(lambda x: x if pd.isna(x) else \n",
    "                                                      str(re.sub('\\+$|^\\~|\\?', '', str(x))))"
   ]
  },
  {
   "cell_type": "code",
   "execution_count": 22,
   "id": "f4e2481b",
   "metadata": {
    "scrolled": true
   },
   "outputs": [],
   "source": [
    "sk['Possible_victims'] = sk['Possible_victims'].apply(lambda x: x if pd.isna(x) else \n",
    "                             sum([int(i) for i in re.split('–|-',str(x))])/len(str(re.sub('\\+$', '', str(x))).split('–'))).round(0)"
   ]
  },
  {
   "cell_type": "code",
   "execution_count": 23,
   "id": "5242fb8c",
   "metadata": {},
   "outputs": [
    {
     "data": {
      "text/html": [
       "<div>\n",
       "<style scoped>\n",
       "    .dataframe tbody tr th:only-of-type {\n",
       "        vertical-align: middle;\n",
       "    }\n",
       "\n",
       "    .dataframe tbody tr th {\n",
       "        vertical-align: top;\n",
       "    }\n",
       "\n",
       "    .dataframe thead th {\n",
       "        text-align: right;\n",
       "    }\n",
       "</style>\n",
       "<table border=\"1\" class=\"dataframe\">\n",
       "  <thead>\n",
       "    <tr style=\"text-align: right;\">\n",
       "      <th></th>\n",
       "      <th>Name</th>\n",
       "      <th>Country</th>\n",
       "      <th>Years active</th>\n",
       "      <th>Proven victims</th>\n",
       "      <th>Possible victims</th>\n",
       "      <th>Notes</th>\n",
       "      <th>Countries_active</th>\n",
       "      <th>Countries_num</th>\n",
       "      <th>Proven_victims</th>\n",
       "      <th>Possible_victims</th>\n",
       "    </tr>\n",
       "  </thead>\n",
       "  <tbody>\n",
       "    <tr>\n",
       "      <th>0</th>\n",
       "      <td>Charlie Brandt</td>\n",
       "      <td>United States</td>\n",
       "      <td>1971 to 2004</td>\n",
       "      <td>4</td>\n",
       "      <td>29</td>\n",
       "      <td>Committed suicide by hanging after murdering h...</td>\n",
       "      <td>[United States]</td>\n",
       "      <td>1</td>\n",
       "      <td>4</td>\n",
       "      <td>29.0</td>\n",
       "    </tr>\n",
       "    <tr>\n",
       "      <th>1</th>\n",
       "      <td>Robert Black</td>\n",
       "      <td>United Kingdom\\r\\nIreland (suspected)\\r\\nWest ...</td>\n",
       "      <td>1981 to 1986</td>\n",
       "      <td>4</td>\n",
       "      <td>18+</td>\n",
       "      <td>Convicted of kidnapping, raping and murdering ...</td>\n",
       "      <td>[United Kingdom, Ireland (suspected), West Ger...</td>\n",
       "      <td>5</td>\n",
       "      <td>4</td>\n",
       "      <td>18.0</td>\n",
       "    </tr>\n",
       "    <tr>\n",
       "      <th>2</th>\n",
       "      <td>Max Gufler</td>\n",
       "      <td>Austria</td>\n",
       "      <td>1946 to 1958</td>\n",
       "      <td>4</td>\n",
       "      <td>18</td>\n",
       "      <td>Poisoned and drowned four women, but suspected...</td>\n",
       "      <td>[Austria]</td>\n",
       "      <td>1</td>\n",
       "      <td>4</td>\n",
       "      <td>18.0</td>\n",
       "    </tr>\n",
       "    <tr>\n",
       "      <th>3</th>\n",
       "      <td>Ernesto Picchioni</td>\n",
       "      <td>Italy</td>\n",
       "      <td>1949 and earlier</td>\n",
       "      <td>4</td>\n",
       "      <td>16</td>\n",
       "      <td>Murdered people who approached his home; died ...</td>\n",
       "      <td>[Italy]</td>\n",
       "      <td>1</td>\n",
       "      <td>4</td>\n",
       "      <td>16.0</td>\n",
       "    </tr>\n",
       "    <tr>\n",
       "      <th>4</th>\n",
       "      <td>Baekuni</td>\n",
       "      <td>Indonesia</td>\n",
       "      <td>1993 to 2010</td>\n",
       "      <td>4</td>\n",
       "      <td>14</td>\n",
       "      <td>Pedophile who raped and killed young boys; ini...</td>\n",
       "      <td>[Indonesia]</td>\n",
       "      <td>1</td>\n",
       "      <td>4</td>\n",
       "      <td>14.0</td>\n",
       "    </tr>\n",
       "  </tbody>\n",
       "</table>\n",
       "</div>"
      ],
      "text/plain": [
       "                Name                                            Country  \\\n",
       "0     Charlie Brandt                                      United States   \n",
       "1       Robert Black  United Kingdom\\r\\nIreland (suspected)\\r\\nWest ...   \n",
       "2         Max Gufler                                            Austria   \n",
       "3  Ernesto Picchioni                                              Italy   \n",
       "4            Baekuni                                          Indonesia   \n",
       "\n",
       "       Years active Proven victims Possible victims  \\\n",
       "0      1971 to 2004              4               29   \n",
       "1      1981 to 1986              4              18+   \n",
       "2      1946 to 1958              4               18   \n",
       "3  1949 and earlier              4               16   \n",
       "4      1993 to 2010              4               14   \n",
       "\n",
       "                                               Notes  \\\n",
       "0  Committed suicide by hanging after murdering h...   \n",
       "1  Convicted of kidnapping, raping and murdering ...   \n",
       "2  Poisoned and drowned four women, but suspected...   \n",
       "3  Murdered people who approached his home; died ...   \n",
       "4  Pedophile who raped and killed young boys; ini...   \n",
       "\n",
       "                                    Countries_active  Countries_num  \\\n",
       "0                                    [United States]              1   \n",
       "1  [United Kingdom, Ireland (suspected), West Ger...              5   \n",
       "2                                          [Austria]              1   \n",
       "3                                            [Italy]              1   \n",
       "4                                        [Indonesia]              1   \n",
       "\n",
       "   Proven_victims  Possible_victims  \n",
       "0               4              29.0  \n",
       "1               4              18.0  \n",
       "2               4              18.0  \n",
       "3               4              16.0  \n",
       "4               4              14.0  "
      ]
     },
     "execution_count": 23,
     "metadata": {},
     "output_type": "execute_result"
    }
   ],
   "source": [
    "sk.head()"
   ]
  },
  {
   "cell_type": "markdown",
   "id": "8d7996b1",
   "metadata": {},
   "source": [
    "### Years active"
   ]
  },
  {
   "cell_type": "markdown",
   "id": "4fe911cd",
   "metadata": {},
   "source": [
    "I wanted to take advantage of this column and I created some more columns."
   ]
  },
  {
   "cell_type": "markdown",
   "id": "4bafbd94",
   "metadata": {},
   "source": [
    "First I'm going to clean the main column. I'm going to delete those characters that say '?' or 'c.'. After that I'm going to transform those that say 1990s into 1990 to 1999 so it is easier to handle later."
   ]
  },
  {
   "cell_type": "code",
   "execution_count": 17,
   "id": "6b798b88",
   "metadata": {},
   "outputs": [],
   "source": [
    "sk['Years active'] = sk['Years active'].apply(lambda x: re.sub('\\?|c\\.','',str(x)))"
   ]
  },
  {
   "cell_type": "code",
   "execution_count": 18,
   "id": "eba5a3fa",
   "metadata": {},
   "outputs": [],
   "source": [
    "# Todos los valores que los pone como década (1990s etc) los he puesto como 1990 to 1999.\n",
    "sk['Years active'] = sk['Years active'].apply(lambda x: re.sub('s$','', str(x)) + ' to ' + str(int(re.sub('s$','', str(x)))+9) if (len(re.split(' to | and ', str(x)))==1 and \n",
    "                                                               len(re.findall('s$', x))==1) else x)"
   ]
  },
  {
   "cell_type": "markdown",
   "id": "c29f2689",
   "metadata": {},
   "source": [
    "Now I'm going to create two columns, one for the start year and another for the end year. I will split the string separating by ' to ' or ' and '. If the string says 'earlier' (e.g. 1990 and earlier) I will take the year as the finish year and the start year will be unknown. If the string is only one year it will be the start and the finish year."
   ]
  },
  {
   "cell_type": "code",
   "execution_count": 19,
   "id": "5e745d78",
   "metadata": {},
   "outputs": [],
   "source": [
    "# Todos los que ponía earlier los he puesto como Unknown\n",
    "sk['Start_year'] = sk['Years active'].apply(lambda x: 'Unknown' if (len(re.split(' to | and ', str(x)))==2 and \n",
    "                         re.split(' to | and ', str(x))[1] == 'earlier') else re.split(' to | and ', str(x))[0])"
   ]
  },
  {
   "cell_type": "code",
   "execution_count": 20,
   "id": "868e871f",
   "metadata": {},
   "outputs": [],
   "source": [
    "sk['Finish_year'] = sk['Years active'].apply(lambda x: re.split(' to | and ', str(x))[0] if (len(re.split(' to | and ', str(x)))==2 and \n",
    "                         re.split(' to | and ', str(x))[1] == 'earlier') else \n",
    "                         (re.split(' to | and ', str(x))[0] if (len(re.split(' to | and ', str(x)))==1) else \n",
    "                          re.split(' to | and ', str(x))[1]))"
   ]
  },
  {
   "cell_type": "markdown",
   "id": "89a46b2e",
   "metadata": {},
   "source": [
    "There are some values that are more complicated so I just created a dictionary and replaced them directly."
   ]
  },
  {
   "cell_type": "code",
   "execution_count": 25,
   "id": "60c6562c",
   "metadata": {},
   "outputs": [],
   "source": [
    "d1 = {'30 June 1983': '1983', 'late 1990': '1990'}\n",
    "d2 = {'present': '2023', '23 July 1983': '1983'}\n",
    "sk['Start_year'] = sk['Start_year'].replace(d1)\n",
    "sk['Finish_year'] = sk['Finish_year'].replace(d2)"
   ]
  },
  {
   "cell_type": "markdown",
   "id": "db420c26",
   "metadata": {},
   "source": [
    "Looks like there are some more values that have 's'. We'll fix them."
   ]
  },
  {
   "cell_type": "code",
   "execution_count": 22,
   "id": "f9254258",
   "metadata": {},
   "outputs": [],
   "source": [
    "sk['Start_year'] = sk['Start_year'].apply(lambda x: re.sub('s','',str(x)))\n",
    "sk['Finish_year'] = sk['Finish_year'].apply(lambda x: re.sub('s','',str(x)))"
   ]
  },
  {
   "cell_type": "markdown",
   "id": "aa0bf412",
   "metadata": {},
   "source": [
    "Lastly, I will count how many years they were active. I will calculate the difference between the two columns created previously. If one year is Unknown the active years will also be unknown."
   ]
  },
  {
   "cell_type": "code",
   "execution_count": 26,
   "id": "12e59e9e",
   "metadata": {},
   "outputs": [],
   "source": [
    "sk['Active_years'] = sk.apply(lambda x: (int(x['Finish_year'])-int(x['Start_year'])) if x['Start_year']!= 'Unknown' else\n",
    "                              'Unknown', axis =1)"
   ]
  },
  {
   "cell_type": "code",
   "execution_count": 27,
   "id": "4a39d4dd",
   "metadata": {},
   "outputs": [
    {
     "data": {
      "text/html": [
       "<div>\n",
       "<style scoped>\n",
       "    .dataframe tbody tr th:only-of-type {\n",
       "        vertical-align: middle;\n",
       "    }\n",
       "\n",
       "    .dataframe tbody tr th {\n",
       "        vertical-align: top;\n",
       "    }\n",
       "\n",
       "    .dataframe thead th {\n",
       "        text-align: right;\n",
       "    }\n",
       "</style>\n",
       "<table border=\"1\" class=\"dataframe\">\n",
       "  <thead>\n",
       "    <tr style=\"text-align: right;\">\n",
       "      <th></th>\n",
       "      <th>Name</th>\n",
       "      <th>Country</th>\n",
       "      <th>Years active</th>\n",
       "      <th>Proven victims</th>\n",
       "      <th>Possible victims</th>\n",
       "      <th>Notes</th>\n",
       "      <th>Countries_active</th>\n",
       "      <th>Countries_num</th>\n",
       "      <th>Proven_victims</th>\n",
       "      <th>Possible_victims</th>\n",
       "      <th>Start_year</th>\n",
       "      <th>Finish_year</th>\n",
       "      <th>Active_years</th>\n",
       "    </tr>\n",
       "  </thead>\n",
       "  <tbody>\n",
       "    <tr>\n",
       "      <th>0</th>\n",
       "      <td>Charlie Brandt</td>\n",
       "      <td>United States</td>\n",
       "      <td>1971 to 2004</td>\n",
       "      <td>4</td>\n",
       "      <td>29</td>\n",
       "      <td>Committed suicide by hanging after murdering h...</td>\n",
       "      <td>[United States]</td>\n",
       "      <td>1</td>\n",
       "      <td>4</td>\n",
       "      <td>29.0</td>\n",
       "      <td>1971</td>\n",
       "      <td>2004</td>\n",
       "      <td>33</td>\n",
       "    </tr>\n",
       "    <tr>\n",
       "      <th>1</th>\n",
       "      <td>Robert Black</td>\n",
       "      <td>United Kingdom\\r\\nIreland (suspected)\\r\\nWest ...</td>\n",
       "      <td>1981 to 1986</td>\n",
       "      <td>4</td>\n",
       "      <td>18+</td>\n",
       "      <td>Convicted of kidnapping, raping and murdering ...</td>\n",
       "      <td>[United Kingdom, Ireland (suspected), West Ger...</td>\n",
       "      <td>5</td>\n",
       "      <td>4</td>\n",
       "      <td>18.0</td>\n",
       "      <td>1981</td>\n",
       "      <td>1986</td>\n",
       "      <td>5</td>\n",
       "    </tr>\n",
       "    <tr>\n",
       "      <th>2</th>\n",
       "      <td>Max Gufler</td>\n",
       "      <td>Austria</td>\n",
       "      <td>1946 to 1958</td>\n",
       "      <td>4</td>\n",
       "      <td>18</td>\n",
       "      <td>Poisoned and drowned four women, but suspected...</td>\n",
       "      <td>[Austria]</td>\n",
       "      <td>1</td>\n",
       "      <td>4</td>\n",
       "      <td>18.0</td>\n",
       "      <td>1946</td>\n",
       "      <td>1958</td>\n",
       "      <td>12</td>\n",
       "    </tr>\n",
       "    <tr>\n",
       "      <th>3</th>\n",
       "      <td>Ernesto Picchioni</td>\n",
       "      <td>Italy</td>\n",
       "      <td>1949 and earlier</td>\n",
       "      <td>4</td>\n",
       "      <td>16</td>\n",
       "      <td>Murdered people who approached his home; died ...</td>\n",
       "      <td>[Italy]</td>\n",
       "      <td>1</td>\n",
       "      <td>4</td>\n",
       "      <td>16.0</td>\n",
       "      <td>Unknown</td>\n",
       "      <td>1949</td>\n",
       "      <td>Unknown</td>\n",
       "    </tr>\n",
       "    <tr>\n",
       "      <th>4</th>\n",
       "      <td>Baekuni</td>\n",
       "      <td>Indonesia</td>\n",
       "      <td>1993 to 2010</td>\n",
       "      <td>4</td>\n",
       "      <td>14</td>\n",
       "      <td>Pedophile who raped and killed young boys; ini...</td>\n",
       "      <td>[Indonesia]</td>\n",
       "      <td>1</td>\n",
       "      <td>4</td>\n",
       "      <td>14.0</td>\n",
       "      <td>1993</td>\n",
       "      <td>2010</td>\n",
       "      <td>17</td>\n",
       "    </tr>\n",
       "  </tbody>\n",
       "</table>\n",
       "</div>"
      ],
      "text/plain": [
       "                Name                                            Country  \\\n",
       "0     Charlie Brandt                                      United States   \n",
       "1       Robert Black  United Kingdom\\r\\nIreland (suspected)\\r\\nWest ...   \n",
       "2         Max Gufler                                            Austria   \n",
       "3  Ernesto Picchioni                                              Italy   \n",
       "4            Baekuni                                          Indonesia   \n",
       "\n",
       "       Years active Proven victims Possible victims  \\\n",
       "0      1971 to 2004              4               29   \n",
       "1      1981 to 1986              4              18+   \n",
       "2      1946 to 1958              4               18   \n",
       "3  1949 and earlier              4               16   \n",
       "4      1993 to 2010              4               14   \n",
       "\n",
       "                                               Notes  \\\n",
       "0  Committed suicide by hanging after murdering h...   \n",
       "1  Convicted of kidnapping, raping and murdering ...   \n",
       "2  Poisoned and drowned four women, but suspected...   \n",
       "3  Murdered people who approached his home; died ...   \n",
       "4  Pedophile who raped and killed young boys; ini...   \n",
       "\n",
       "                                    Countries_active  Countries_num  \\\n",
       "0                                    [United States]              1   \n",
       "1  [United Kingdom, Ireland (suspected), West Ger...              5   \n",
       "2                                          [Austria]              1   \n",
       "3                                            [Italy]              1   \n",
       "4                                        [Indonesia]              1   \n",
       "\n",
       "   Proven_victims  Possible_victims Start_year Finish_year Active_years  \n",
       "0               4              29.0       1971        2004           33  \n",
       "1               4              18.0       1981        1986            5  \n",
       "2               4              18.0       1946        1958           12  \n",
       "3               4              16.0    Unknown        1949      Unknown  \n",
       "4               4              14.0       1993        2010           17  "
      ]
     },
     "execution_count": 27,
     "metadata": {},
     "output_type": "execute_result"
    }
   ],
   "source": [
    "sk.head()"
   ]
  }
 ],
 "metadata": {
  "kernelspec": {
   "display_name": "Python 3 (ipykernel)",
   "language": "python",
   "name": "python3"
  },
  "language_info": {
   "codemirror_mode": {
    "name": "ipython",
    "version": 3
   },
   "file_extension": ".py",
   "mimetype": "text/x-python",
   "name": "python",
   "nbconvert_exporter": "python",
   "pygments_lexer": "ipython3",
   "version": "3.9.13"
  }
 },
 "nbformat": 4,
 "nbformat_minor": 5
}
