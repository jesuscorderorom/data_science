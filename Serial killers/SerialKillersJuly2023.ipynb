{
 "cells": [
  {
   "cell_type": "code",
   "execution_count": 1,
   "id": "e984b2ce",
   "metadata": {},
   "outputs": [],
   "source": [
    "import pandas as pd\n",
    "import numpy as np\n",
    "import matplotlib.pyplot as plt\n",
    "import seaborn as sns\n",
    "import re"
   ]
  },
  {
   "cell_type": "code",
   "execution_count": 2,
   "id": "438cfc6d",
   "metadata": {},
   "outputs": [],
   "source": [
    "sk_less5 = pd.read_csv('Lessthan_5_victim_count.csv')\n",
    "sk_5to14 = pd.read_csv('5_to_14_victim_count.csv')\n",
    "sk_15to30 = pd.read_csv('15_to_30_victim_count.csv')\n",
    "sk_highest = pd.read_csv('Highest_victim_count.csv')\n",
    "sk = pd.concat([sk_less5,sk_5to14,sk_15to30,sk_highest], axis = 0)\n",
    "sk.reset_index(drop=True, inplace=True)"
   ]
  },
  {
   "cell_type": "code",
   "execution_count": 3,
   "id": "a70049e2",
   "metadata": {},
   "outputs": [
    {
     "data": {
      "text/html": [
       "<div>\n",
       "<style scoped>\n",
       "    .dataframe tbody tr th:only-of-type {\n",
       "        vertical-align: middle;\n",
       "    }\n",
       "\n",
       "    .dataframe tbody tr th {\n",
       "        vertical-align: top;\n",
       "    }\n",
       "\n",
       "    .dataframe thead th {\n",
       "        text-align: right;\n",
       "    }\n",
       "</style>\n",
       "<table border=\"1\" class=\"dataframe\">\n",
       "  <thead>\n",
       "    <tr style=\"text-align: right;\">\n",
       "      <th></th>\n",
       "      <th>Name</th>\n",
       "      <th>Country</th>\n",
       "      <th>Years active</th>\n",
       "      <th>Proven victims</th>\n",
       "      <th>Possible victims</th>\n",
       "      <th>Notes</th>\n",
       "    </tr>\n",
       "  </thead>\n",
       "  <tbody>\n",
       "    <tr>\n",
       "      <th>108</th>\n",
       "      <td>Lonnie David Franklin Jr.</td>\n",
       "      <td>United States</td>\n",
       "      <td>1985 to 2007</td>\n",
       "      <td>10</td>\n",
       "      <td>25</td>\n",
       "      <td>Known as the \"Grim Sleeper\" for the alleged 14...</td>\n",
       "    </tr>\n",
       "    <tr>\n",
       "      <th>157</th>\n",
       "      <td>Manuel Delgado Villegas</td>\n",
       "      <td>Spain\\r\\nFrance (claimed)\\r\\nItaly (claimed)</td>\n",
       "      <td>1964 to 1971</td>\n",
       "      <td>7</td>\n",
       "      <td>48</td>\n",
       "      <td>Wandering criminal known as El Arropiero (\"The...</td>\n",
       "    </tr>\n",
       "    <tr>\n",
       "      <th>109</th>\n",
       "      <td>Sergey Cherny</td>\n",
       "      <td>Russia</td>\n",
       "      <td>1999</td>\n",
       "      <td>10</td>\n",
       "      <td>11</td>\n",
       "      <td>Strangled women around Smolensk; suspected of ...</td>\n",
       "    </tr>\n",
       "    <tr>\n",
       "      <th>56</th>\n",
       "      <td>Vasiliy Kulik</td>\n",
       "      <td>Soviet Union</td>\n",
       "      <td>1984 to 1986</td>\n",
       "      <td>13</td>\n",
       "      <td>NaN</td>\n",
       "      <td>Known as the Irkutsk Monster; killed at least ...</td>\n",
       "    </tr>\n",
       "    <tr>\n",
       "      <th>88</th>\n",
       "      <td>Clifford Olson</td>\n",
       "      <td>Canada</td>\n",
       "      <td>1980 to 1981</td>\n",
       "      <td>11</td>\n",
       "      <td>NaN</td>\n",
       "      <td>Considered a dangerous offender, meaning that ...</td>\n",
       "    </tr>\n",
       "  </tbody>\n",
       "</table>\n",
       "</div>"
      ],
      "text/plain": [
       "                          Name                                       Country  \\\n",
       "108  Lonnie David Franklin Jr.                                 United States   \n",
       "157    Manuel Delgado Villegas  Spain\\r\\nFrance (claimed)\\r\\nItaly (claimed)   \n",
       "109              Sergey Cherny                                        Russia   \n",
       "56               Vasiliy Kulik                                  Soviet Union   \n",
       "88              Clifford Olson                                        Canada   \n",
       "\n",
       "     Years active Proven victims Possible victims  \\\n",
       "108  1985 to 2007             10               25   \n",
       "157  1964 to 1971              7               48   \n",
       "109          1999             10               11   \n",
       "56   1984 to 1986             13              NaN   \n",
       "88   1980 to 1981             11              NaN   \n",
       "\n",
       "                                                 Notes  \n",
       "108  Known as the \"Grim Sleeper\" for the alleged 14...  \n",
       "157  Wandering criminal known as El Arropiero (\"The...  \n",
       "109  Strangled women around Smolensk; suspected of ...  \n",
       "56   Known as the Irkutsk Monster; killed at least ...  \n",
       "88   Considered a dangerous offender, meaning that ...  "
      ]
     },
     "execution_count": 3,
     "metadata": {},
     "output_type": "execute_result"
    }
   ],
   "source": [
    "sk.sample(n=5)\n",
    "# Looks like everything is fine"
   ]
  },
  {
   "cell_type": "code",
   "execution_count": 4,
   "id": "7a48e551",
   "metadata": {},
   "outputs": [
    {
     "name": "stdout",
     "output_type": "stream",
     "text": [
      "<class 'pandas.core.frame.DataFrame'>\n",
      "RangeIndex: 305 entries, 0 to 304\n",
      "Data columns (total 6 columns):\n",
      " #   Column            Non-Null Count  Dtype \n",
      "---  ------            --------------  ----- \n",
      " 0   Name              305 non-null    object\n",
      " 1   Country           305 non-null    object\n",
      " 2   Years active      305 non-null    object\n",
      " 3   Proven victims    305 non-null    object\n",
      " 4   Possible victims  237 non-null    object\n",
      " 5   Notes             305 non-null    object\n",
      "dtypes: object(6)\n",
      "memory usage: 14.4+ KB\n"
     ]
    }
   ],
   "source": [
    "sk.info()"
   ]
  },
  {
   "cell_type": "markdown",
   "id": "ecef6578",
   "metadata": {},
   "source": [
    "Dado que todos las columnas son de tipo object voy a ver cuáles son los valores únicos para cada columna."
   ]
  },
  {
   "cell_type": "markdown",
   "id": "63c31ea1",
   "metadata": {},
   "source": [
    "### Country"
   ]
  },
  {
   "cell_type": "code",
   "execution_count": 5,
   "id": "b1273ab5",
   "metadata": {
    "scrolled": true
   },
   "outputs": [
    {
     "data": {
      "text/plain": [
       "array(['United States',\n",
       "       'United Kingdom\\r\\nIreland (suspected)\\r\\nWest Germany (suspected)\\r\\nNetherlands (suspected)\\r\\nFrance (suspected)',\n",
       "       'Austria', 'Italy', 'Indonesia', 'Soviet Union', 'United Kingdom',\n",
       "       'Mexico', 'Allied-occupied Germany\\r\\nWest Germany', 'Netherlands',\n",
       "       'Japan', 'Turkey', 'Poland', 'West Germany', 'Brazil', 'Chile',\n",
       "       'Russia', 'South Korea', 'Pakistan', 'Latvia', 'South Africa',\n",
       "       'Argentina', 'Soviet Union\\r\\nRussia', 'Tunisia', 'Germany',\n",
       "       'Thailand\\r\\nNepal\\r\\nIndia\\r\\nMalaysia', 'Yemen', 'Spain',\n",
       "       'Australia', 'China', 'Austria\\r\\nUnited States\\r\\nCzechoslovakia',\n",
       "       'Canada', 'France', 'Bangladesh', 'Belgium', 'Ukraine', 'India',\n",
       "       'Soviet Union\\r\\nRussia\\r\\nUkraine',\n",
       "       'East Germany\\r\\nGermany\\r\\nFrance\\r\\nSpain\\r\\nCzech Republic (suspected)\\r\\nItaly (suspected)',\n",
       "       'German Empire\\r\\nGermany', 'Denmark', 'China\\r\\nJapan',\n",
       "       'Spain\\r\\nFrance (claimed)\\r\\nItaly (claimed)',\n",
       "       'Canada\\r\\nUnited States', 'Colombia', 'Cyprus', 'Belarus',\n",
       "       'Costa Rica', 'United States\\r\\n Portuguese Angola',\n",
       "       'Switzerland\\r\\nFrance\\r\\nUnited States\\r\\nYugoslavia (suspected)\\r\\nItaly (suspected)',\n",
       "       'Czechoslovakia', 'Singapore', 'Swaziland', 'Greece',\n",
       "       'Austria-Hungary', 'Iran',\n",
       "       'France\\r\\nGermany (suspected)\\r\\nSwitzerland (suspected)',\n",
       "       'Ecuador', 'United States\\r\\nCanada',\n",
       "       'Soviet Union\\r\\nRussia\\r\\nTajikistan', 'Romania', 'Afghanistan',\n",
       "       'Peru', 'France\\r\\nBelgium', 'Venezuela',\n",
       "       'United States\\r\\nMexico', 'Colombia\\r\\nEcuador\\r\\nVenezuela',\n",
       "       'Colombia\\r\\nPeru\\r\\nEcuador',\n",
       "       'Colombia\\r\\nEcuador\\r\\nBrazil (alleged)',\n",
       "       'Soviet Union\\r\\nUkraine', 'Morocco',\n",
       "       'Kingdom of Romania\\r\\nYugoslavia\\r\\nHungary (alleged)',\n",
       "       'Ottoman Empire\\r\\n Iraq\\r\\n Iran', 'Egypt'], dtype=object)"
      ]
     },
     "execution_count": 5,
     "metadata": {},
     "output_type": "execute_result"
    }
   ],
   "source": [
    "sk.Country.unique()"
   ]
  },
  {
   "cell_type": "code",
   "execution_count": 6,
   "id": "16d304a4",
   "metadata": {},
   "outputs": [],
   "source": [
    "sk['Countries_active'] = sk.Country.apply(lambda x: x.split('\\r\\n'))"
   ]
  },
  {
   "cell_type": "code",
   "execution_count": 7,
   "id": "5caac7f6",
   "metadata": {},
   "outputs": [],
   "source": [
    "sk['Countries_num'] = sk['Countries_active'].apply(lambda x: len(x))"
   ]
  },
  {
   "cell_type": "code",
   "execution_count": 8,
   "id": "c1864385",
   "metadata": {},
   "outputs": [
    {
     "data": {
      "text/html": [
       "<div>\n",
       "<style scoped>\n",
       "    .dataframe tbody tr th:only-of-type {\n",
       "        vertical-align: middle;\n",
       "    }\n",
       "\n",
       "    .dataframe tbody tr th {\n",
       "        vertical-align: top;\n",
       "    }\n",
       "\n",
       "    .dataframe thead th {\n",
       "        text-align: right;\n",
       "    }\n",
       "</style>\n",
       "<table border=\"1\" class=\"dataframe\">\n",
       "  <thead>\n",
       "    <tr style=\"text-align: right;\">\n",
       "      <th></th>\n",
       "      <th>Name</th>\n",
       "      <th>Country</th>\n",
       "      <th>Years active</th>\n",
       "      <th>Proven victims</th>\n",
       "      <th>Possible victims</th>\n",
       "      <th>Notes</th>\n",
       "      <th>Countries_active</th>\n",
       "      <th>Countries_num</th>\n",
       "    </tr>\n",
       "  </thead>\n",
       "  <tbody>\n",
       "    <tr>\n",
       "      <th>0</th>\n",
       "      <td>Charlie Brandt</td>\n",
       "      <td>United States</td>\n",
       "      <td>1971 to 2004</td>\n",
       "      <td>4</td>\n",
       "      <td>29</td>\n",
       "      <td>Committed suicide by hanging after murdering h...</td>\n",
       "      <td>[United States]</td>\n",
       "      <td>1</td>\n",
       "    </tr>\n",
       "    <tr>\n",
       "      <th>1</th>\n",
       "      <td>Robert Black</td>\n",
       "      <td>United Kingdom\\r\\nIreland (suspected)\\r\\nWest ...</td>\n",
       "      <td>1981 to 1986</td>\n",
       "      <td>4</td>\n",
       "      <td>18+</td>\n",
       "      <td>Convicted of kidnapping, raping and murdering ...</td>\n",
       "      <td>[United Kingdom, Ireland (suspected), West Ger...</td>\n",
       "      <td>5</td>\n",
       "    </tr>\n",
       "    <tr>\n",
       "      <th>2</th>\n",
       "      <td>Max Gufler</td>\n",
       "      <td>Austria</td>\n",
       "      <td>1946 to 1958</td>\n",
       "      <td>4</td>\n",
       "      <td>18</td>\n",
       "      <td>Poisoned and drowned four women, but suspected...</td>\n",
       "      <td>[Austria]</td>\n",
       "      <td>1</td>\n",
       "    </tr>\n",
       "    <tr>\n",
       "      <th>3</th>\n",
       "      <td>Ernesto Picchioni</td>\n",
       "      <td>Italy</td>\n",
       "      <td>1949 and earlier</td>\n",
       "      <td>4</td>\n",
       "      <td>16</td>\n",
       "      <td>Murdered people who approached his home; died ...</td>\n",
       "      <td>[Italy]</td>\n",
       "      <td>1</td>\n",
       "    </tr>\n",
       "    <tr>\n",
       "      <th>4</th>\n",
       "      <td>Baekuni</td>\n",
       "      <td>Indonesia</td>\n",
       "      <td>1993 to 2010</td>\n",
       "      <td>4</td>\n",
       "      <td>14</td>\n",
       "      <td>Pedophile who raped and killed young boys; ini...</td>\n",
       "      <td>[Indonesia]</td>\n",
       "      <td>1</td>\n",
       "    </tr>\n",
       "  </tbody>\n",
       "</table>\n",
       "</div>"
      ],
      "text/plain": [
       "                Name                                            Country  \\\n",
       "0     Charlie Brandt                                      United States   \n",
       "1       Robert Black  United Kingdom\\r\\nIreland (suspected)\\r\\nWest ...   \n",
       "2         Max Gufler                                            Austria   \n",
       "3  Ernesto Picchioni                                              Italy   \n",
       "4            Baekuni                                          Indonesia   \n",
       "\n",
       "       Years active Proven victims Possible victims  \\\n",
       "0      1971 to 2004              4               29   \n",
       "1      1981 to 1986              4              18+   \n",
       "2      1946 to 1958              4               18   \n",
       "3  1949 and earlier              4               16   \n",
       "4      1993 to 2010              4               14   \n",
       "\n",
       "                                               Notes  \\\n",
       "0  Committed suicide by hanging after murdering h...   \n",
       "1  Convicted of kidnapping, raping and murdering ...   \n",
       "2  Poisoned and drowned four women, but suspected...   \n",
       "3  Murdered people who approached his home; died ...   \n",
       "4  Pedophile who raped and killed young boys; ini...   \n",
       "\n",
       "                                    Countries_active  Countries_num  \n",
       "0                                    [United States]              1  \n",
       "1  [United Kingdom, Ireland (suspected), West Ger...              5  \n",
       "2                                          [Austria]              1  \n",
       "3                                            [Italy]              1  \n",
       "4                                        [Indonesia]              1  "
      ]
     },
     "execution_count": 8,
     "metadata": {},
     "output_type": "execute_result"
    }
   ],
   "source": [
    "sk.head()"
   ]
  },
  {
   "cell_type": "markdown",
   "id": "f2828352",
   "metadata": {},
   "source": [
    "### Proven victims"
   ]
  },
  {
   "cell_type": "code",
   "execution_count": 9,
   "id": "695012b6",
   "metadata": {},
   "outputs": [
    {
     "data": {
      "text/plain": [
       "array([4, 3, '14', '13', '12', '11–16', '11', '10', '9–13', '9', '8',\n",
       "       '8–15', '8–11+', '7', '6', '5', 30, 28, 27, 26, 25, 24, 23, 22, 21,\n",
       "       20, 19, 18, 17, 16, 15, 138, 110, 100, 83, 72, 71, 70, 67, 60, 58,\n",
       "       53, 52, 50, 49, 48, 45, 42, 41, 39, 38, 36, 35, 33, 32],\n",
       "      dtype=object)"
      ]
     },
     "execution_count": 9,
     "metadata": {},
     "output_type": "execute_result"
    }
   ],
   "source": [
    "sk['Proven victims'].unique()"
   ]
  },
  {
   "cell_type": "code",
   "execution_count": 10,
   "id": "c48a37a9",
   "metadata": {
    "scrolled": true
   },
   "outputs": [
    {
     "data": {
      "text/html": [
       "<div>\n",
       "<style scoped>\n",
       "    .dataframe tbody tr th:only-of-type {\n",
       "        vertical-align: middle;\n",
       "    }\n",
       "\n",
       "    .dataframe tbody tr th {\n",
       "        vertical-align: top;\n",
       "    }\n",
       "\n",
       "    .dataframe thead th {\n",
       "        text-align: right;\n",
       "    }\n",
       "</style>\n",
       "<table border=\"1\" class=\"dataframe\">\n",
       "  <thead>\n",
       "    <tr style=\"text-align: right;\">\n",
       "      <th></th>\n",
       "      <th>Name</th>\n",
       "      <th>Country</th>\n",
       "      <th>Years active</th>\n",
       "      <th>Proven victims</th>\n",
       "      <th>Possible victims</th>\n",
       "      <th>Notes</th>\n",
       "      <th>Countries_active</th>\n",
       "      <th>Countries_num</th>\n",
       "    </tr>\n",
       "  </thead>\n",
       "  <tbody>\n",
       "    <tr>\n",
       "      <th>79</th>\n",
       "      <td>Herb Baumeister</td>\n",
       "      <td>United States</td>\n",
       "      <td>1990 to 1996</td>\n",
       "      <td>11–16</td>\n",
       "      <td>25+</td>\n",
       "      <td>Strangled gay men and buried their bodies in h...</td>\n",
       "      <td>[United States]</td>\n",
       "      <td>1</td>\n",
       "    </tr>\n",
       "    <tr>\n",
       "      <th>126</th>\n",
       "      <td>Volker Eckert</td>\n",
       "      <td>East Germany\\r\\nGermany\\r\\nFrance\\r\\nSpain\\r\\n...</td>\n",
       "      <td>1974 to 2006</td>\n",
       "      <td>9–13</td>\n",
       "      <td>19+</td>\n",
       "      <td>German trucker who confessed to having abducte...</td>\n",
       "      <td>[East Germany, Germany, France, Spain, Czech R...</td>\n",
       "      <td>6</td>\n",
       "    </tr>\n",
       "    <tr>\n",
       "      <th>144</th>\n",
       "      <td>Joseph Paul Franklin</td>\n",
       "      <td>United States</td>\n",
       "      <td>1977 to 1980</td>\n",
       "      <td>8–15</td>\n",
       "      <td>20</td>\n",
       "      <td>White supremacist shooter who confessed to 20 ...</td>\n",
       "      <td>[United States]</td>\n",
       "      <td>1</td>\n",
       "    </tr>\n",
       "    <tr>\n",
       "      <th>145</th>\n",
       "      <td>Yoshio Kodaira</td>\n",
       "      <td>China\\r\\nJapan</td>\n",
       "      <td>1928? to 1946</td>\n",
       "      <td>8–11+</td>\n",
       "      <td>Unknown</td>\n",
       "      <td>A serial rapist, Kodaira killed his father-in-...</td>\n",
       "      <td>[China, Japan]</td>\n",
       "      <td>2</td>\n",
       "    </tr>\n",
       "  </tbody>\n",
       "</table>\n",
       "</div>"
      ],
      "text/plain": [
       "                     Name                                            Country  \\\n",
       "79        Herb Baumeister                                      United States   \n",
       "126         Volker Eckert  East Germany\\r\\nGermany\\r\\nFrance\\r\\nSpain\\r\\n...   \n",
       "144  Joseph Paul Franklin                                      United States   \n",
       "145        Yoshio Kodaira                                     China\\r\\nJapan   \n",
       "\n",
       "      Years active Proven victims Possible victims  \\\n",
       "79    1990 to 1996          11–16              25+   \n",
       "126   1974 to 2006           9–13              19+   \n",
       "144   1977 to 1980           8–15               20   \n",
       "145  1928? to 1946          8–11+          Unknown   \n",
       "\n",
       "                                                 Notes  \\\n",
       "79   Strangled gay men and buried their bodies in h...   \n",
       "126  German trucker who confessed to having abducte...   \n",
       "144  White supremacist shooter who confessed to 20 ...   \n",
       "145  A serial rapist, Kodaira killed his father-in-...   \n",
       "\n",
       "                                      Countries_active  Countries_num  \n",
       "79                                     [United States]              1  \n",
       "126  [East Germany, Germany, France, Spain, Czech R...              6  \n",
       "144                                    [United States]              1  \n",
       "145                                     [China, Japan]              2  "
      ]
     },
     "execution_count": 10,
     "metadata": {},
     "output_type": "execute_result"
    }
   ],
   "source": [
    "sk[(sk['Proven victims'] == '11–16') | (sk['Proven victims'] == '9–13') | (sk['Proven victims'] == '8–15') | (sk['Proven victims'] == '8–11+')]"
   ]
  },
  {
   "cell_type": "code",
   "execution_count": 11,
   "id": "96253060",
   "metadata": {},
   "outputs": [],
   "source": [
    "sk['Proven_victims'] = sk['Proven victims'].apply(lambda x: max([int(i) for i in str(re.sub('\\+$', '', str(x))).split('–')]))"
   ]
  },
  {
   "cell_type": "markdown",
   "id": "46b70daa",
   "metadata": {},
   "source": [
    "### Possible victims"
   ]
  },
  {
   "cell_type": "code",
   "execution_count": 12,
   "id": "1079cde3",
   "metadata": {},
   "outputs": [
    {
     "data": {
      "text/plain": [
       "array(['29', '18+', '18', '16', '14', '13', '12', '11+', '4+', '4', '3',\n",
       "       '50+', '48', '30', '20+', '17', '10', '9–25', '-', '9-100+', '8+',\n",
       "       '3+', '80+', '21+', nan, '44', '40+', '38+', '20', '16+', '15',\n",
       "       '13+', '100', '31–80+', '22', '15–16', 'Unknown', '25+', '29–49',\n",
       "       '17–20', '25', '11', '10+', '19+', '79', '34', '14+', '160',\n",
       "       '130+', '12+', '50–100', '43+', '23–37', '7', '70?', '15+', '6+',\n",
       "       '85–100', '37', '17–25', '5–22', '42+', '42', '45', '28', '35+',\n",
       "       '27+', '26', '24+', '24', '150', '23+', '23', '36+', '26+', '21',\n",
       "       '82+', '30+', '19', '65–67', '172–300+', '300+', '83+', '180',\n",
       "       '100+', '70+', '67', '93', '80-300', '56', '52+', '50', '49',\n",
       "       '71–90+', '60', '60+', '70–80+', '41', '~39', '76', '80–100',\n",
       "       '43–55+', '~35', '36–100+', '35', '34+', '33', '32+', '32'],\n",
       "      dtype=object)"
      ]
     },
     "execution_count": 12,
     "metadata": {},
     "output_type": "execute_result"
    }
   ],
   "source": [
    "sk['Possible victims'].unique()"
   ]
  },
  {
   "cell_type": "code",
   "execution_count": 13,
   "id": "585fdc87",
   "metadata": {},
   "outputs": [],
   "source": [
    "sk['Possible victims'] = sk['Possible victims'].apply(lambda x: np.nan if ((x == 'Unknown') | (x== '-')) else x)"
   ]
  },
  {
   "cell_type": "code",
   "execution_count": 14,
   "id": "2211a861",
   "metadata": {},
   "outputs": [],
   "source": [
    "sk['Possible_victims'] = sk['Possible victims'].apply(lambda x: x if pd.isna(x) else \n",
    "                                                      str(re.sub('\\+$|^\\~|\\?', '', str(x))))"
   ]
  },
  {
   "cell_type": "code",
   "execution_count": 15,
   "id": "f4e2481b",
   "metadata": {
    "scrolled": true
   },
   "outputs": [],
   "source": [
    "sk['Possible_victims'] = sk['Possible_victims'].apply(lambda x: x if pd.isna(x) else \n",
    "                             sum([int(i) for i in re.split('–|-',str(x))])/len(str(re.sub('\\+$', '', str(x))).split('–'))).round(0)"
   ]
  },
  {
   "cell_type": "code",
   "execution_count": 16,
   "id": "5242fb8c",
   "metadata": {},
   "outputs": [
    {
     "data": {
      "text/html": [
       "<div>\n",
       "<style scoped>\n",
       "    .dataframe tbody tr th:only-of-type {\n",
       "        vertical-align: middle;\n",
       "    }\n",
       "\n",
       "    .dataframe tbody tr th {\n",
       "        vertical-align: top;\n",
       "    }\n",
       "\n",
       "    .dataframe thead th {\n",
       "        text-align: right;\n",
       "    }\n",
       "</style>\n",
       "<table border=\"1\" class=\"dataframe\">\n",
       "  <thead>\n",
       "    <tr style=\"text-align: right;\">\n",
       "      <th></th>\n",
       "      <th>Name</th>\n",
       "      <th>Country</th>\n",
       "      <th>Years active</th>\n",
       "      <th>Proven victims</th>\n",
       "      <th>Possible victims</th>\n",
       "      <th>Notes</th>\n",
       "      <th>Countries_active</th>\n",
       "      <th>Countries_num</th>\n",
       "      <th>Proven_victims</th>\n",
       "      <th>Possible_victims</th>\n",
       "    </tr>\n",
       "  </thead>\n",
       "  <tbody>\n",
       "    <tr>\n",
       "      <th>0</th>\n",
       "      <td>Charlie Brandt</td>\n",
       "      <td>United States</td>\n",
       "      <td>1971 to 2004</td>\n",
       "      <td>4</td>\n",
       "      <td>29</td>\n",
       "      <td>Committed suicide by hanging after murdering h...</td>\n",
       "      <td>[United States]</td>\n",
       "      <td>1</td>\n",
       "      <td>4</td>\n",
       "      <td>29.0</td>\n",
       "    </tr>\n",
       "    <tr>\n",
       "      <th>1</th>\n",
       "      <td>Robert Black</td>\n",
       "      <td>United Kingdom\\r\\nIreland (suspected)\\r\\nWest ...</td>\n",
       "      <td>1981 to 1986</td>\n",
       "      <td>4</td>\n",
       "      <td>18+</td>\n",
       "      <td>Convicted of kidnapping, raping and murdering ...</td>\n",
       "      <td>[United Kingdom, Ireland (suspected), West Ger...</td>\n",
       "      <td>5</td>\n",
       "      <td>4</td>\n",
       "      <td>18.0</td>\n",
       "    </tr>\n",
       "    <tr>\n",
       "      <th>2</th>\n",
       "      <td>Max Gufler</td>\n",
       "      <td>Austria</td>\n",
       "      <td>1946 to 1958</td>\n",
       "      <td>4</td>\n",
       "      <td>18</td>\n",
       "      <td>Poisoned and drowned four women, but suspected...</td>\n",
       "      <td>[Austria]</td>\n",
       "      <td>1</td>\n",
       "      <td>4</td>\n",
       "      <td>18.0</td>\n",
       "    </tr>\n",
       "    <tr>\n",
       "      <th>3</th>\n",
       "      <td>Ernesto Picchioni</td>\n",
       "      <td>Italy</td>\n",
       "      <td>1949 and earlier</td>\n",
       "      <td>4</td>\n",
       "      <td>16</td>\n",
       "      <td>Murdered people who approached his home; died ...</td>\n",
       "      <td>[Italy]</td>\n",
       "      <td>1</td>\n",
       "      <td>4</td>\n",
       "      <td>16.0</td>\n",
       "    </tr>\n",
       "    <tr>\n",
       "      <th>4</th>\n",
       "      <td>Baekuni</td>\n",
       "      <td>Indonesia</td>\n",
       "      <td>1993 to 2010</td>\n",
       "      <td>4</td>\n",
       "      <td>14</td>\n",
       "      <td>Pedophile who raped and killed young boys; ini...</td>\n",
       "      <td>[Indonesia]</td>\n",
       "      <td>1</td>\n",
       "      <td>4</td>\n",
       "      <td>14.0</td>\n",
       "    </tr>\n",
       "  </tbody>\n",
       "</table>\n",
       "</div>"
      ],
      "text/plain": [
       "                Name                                            Country  \\\n",
       "0     Charlie Brandt                                      United States   \n",
       "1       Robert Black  United Kingdom\\r\\nIreland (suspected)\\r\\nWest ...   \n",
       "2         Max Gufler                                            Austria   \n",
       "3  Ernesto Picchioni                                              Italy   \n",
       "4            Baekuni                                          Indonesia   \n",
       "\n",
       "       Years active Proven victims Possible victims  \\\n",
       "0      1971 to 2004              4               29   \n",
       "1      1981 to 1986              4              18+   \n",
       "2      1946 to 1958              4               18   \n",
       "3  1949 and earlier              4               16   \n",
       "4      1993 to 2010              4               14   \n",
       "\n",
       "                                               Notes  \\\n",
       "0  Committed suicide by hanging after murdering h...   \n",
       "1  Convicted of kidnapping, raping and murdering ...   \n",
       "2  Poisoned and drowned four women, but suspected...   \n",
       "3  Murdered people who approached his home; died ...   \n",
       "4  Pedophile who raped and killed young boys; ini...   \n",
       "\n",
       "                                    Countries_active  Countries_num  \\\n",
       "0                                    [United States]              1   \n",
       "1  [United Kingdom, Ireland (suspected), West Ger...              5   \n",
       "2                                          [Austria]              1   \n",
       "3                                            [Italy]              1   \n",
       "4                                        [Indonesia]              1   \n",
       "\n",
       "   Proven_victims  Possible_victims  \n",
       "0               4              29.0  \n",
       "1               4              18.0  \n",
       "2               4              18.0  \n",
       "3               4              16.0  \n",
       "4               4              14.0  "
      ]
     },
     "execution_count": 16,
     "metadata": {},
     "output_type": "execute_result"
    }
   ],
   "source": [
    "sk.head()"
   ]
  },
  {
   "cell_type": "markdown",
   "id": "8d7996b1",
   "metadata": {},
   "source": [
    "### Years active"
   ]
  },
  {
   "cell_type": "code",
   "execution_count": 17,
   "id": "6b798b88",
   "metadata": {},
   "outputs": [],
   "source": [
    "sk['Years active'] = sk['Years active'].apply(lambda x: re.sub('\\?|c\\.','',str(x)))"
   ]
  },
  {
   "cell_type": "code",
   "execution_count": 19,
   "id": "94925faf",
   "metadata": {},
   "outputs": [
    {
     "data": {
      "text/plain": [
       "array(['1971 to 2004', '1981 to 1986', '1946 to 1958', '1949 and earlier',\n",
       "       '1993 to 2010', '1985 to 1986', '1912 and earlier', '1999',\n",
       "       '2014 to 2015', '1974 to 1978', '1960 to 1964', '1978 to 1996',\n",
       "       '1989 to 1990', '1991 to 2006', '1986', '1986 to 1987',\n",
       "       '1909 to 1928', '1947 to 1952', '2009 to 2010', '1979 to 1980',\n",
       "       '2007 to 2013', '1982 to 1988', '1973 to 1975', '1939 to 1940',\n",
       "       '2008', '1924 to 1932', '1990 to 1996', '1995', '1974 to 1982',\n",
       "       '1945 to 1946', '1964 to 1970', '1968 to 1985', '1955 to 1976',\n",
       "       '1972 to 1989', '1974 to 1975', '1991', '1998 to 2001',\n",
       "       '1995 to 1999', '2002 to 2004', '2004 to 2006', '2005',\n",
       "       '1930s to 1947', '1900 to 1908', '1934 to 1938', '2003',\n",
       "       '1984 to 1985', '1990s to 2007', '1975 to 1980', '1995 to 2015',\n",
       "       '1972 to 1973', '1962 to 1964', '1977 to 1993', '1979 to 1986',\n",
       "       '1978 to 1981', '1984 to 1986', '1987 to 2002', '2002 to 2003',\n",
       "       '1982 to 1989', '1990 to 2006', '2007', '2007 to 2008',\n",
       "       '1980s to 1988', '1908 to 1935', '1953 to 1982', '1986 to 1992',\n",
       "       '1991 to 2005', '2000 to 2002', '1978 to 1983', '1977 to 1978',\n",
       "       '1975 to 1976', '1990 to 1998', '1975', '1998 to 2003',\n",
       "       '1980 to 1981', '1985', '1900 to 1912', '1992 to 1999',\n",
       "       'late 1990s to 2006', '2008 to 2012', '1974 to 1992',\n",
       "       '1964 to 1975', '1991 to 1992', '1927 to 1954', '1915 to 1919',\n",
       "       '2003 to 2005', '2007 to 2009', '1993 to 1999', '1987 to 1994',\n",
       "       '1971', '1992 to 1995', '1938 to 1942', '2008 and earlier',\n",
       "       '1997 to 1998', '1998 to 2002', '1933 to 1936', '2000 to 2003',\n",
       "       '1946 to 1947', '1983', '1996 to 2011', '1985 to 2007', '1984',\n",
       "       '1990 to 1997', '2004 to 2008', '1964 to 1973', '1974 to 2004',\n",
       "       '1997 to present', '1905 to 1908', '1990 to 1994', '1977 to 1979',\n",
       "       '1995 to 1998', '2004 to 2012', '2006 to 2008', '1996 to 1998',\n",
       "       '1980 to 1982', '1974 to 2006', '1986 to 1989', '1913 to 1930',\n",
       "       '1986 to 1994', '1984 to 1992', '1989 to 1993', '1913 to 1920',\n",
       "       '1966 to 1992', '1981 to 1996', '1958 to 1983', '2009 to 2012',\n",
       "       '1988 to 1989', '2015 to 2016', '1996 to 2000', '2000s',\n",
       "       '1958 to 1963', '1977 to 1980', '1928 to 1946', '1990 to 1995',\n",
       "       '1971 to 1979', '1982 to 1983', '1980 to 1988', '1918 to 1919',\n",
       "       '1965 to 1987', '2010 to 2017', '2007 to 2018', '1980 and earlier',\n",
       "       '1964 to 1971', '1991 to 1999', '1990s', '1980s to 2010s',\n",
       "       '1979 to 1981', '1997', '1960 to 1980', '2003 to 2016',\n",
       "       '1981 to 2004', '2002', '2002 to 2018', '2016 to 2018',\n",
       "       '1976 to 1977', '1980 to 1999', '1950s', '2005 to 2006',\n",
       "       '1990s to 2015', '1986 to 1990', '2000 to 2006', '1977 to 1994',\n",
       "       '1978 to 2002', '1962 to 1977', '1957 to 2009', '1915 to 1929',\n",
       "       '2006', '1981 to 1987', '1948 to 1951', '1989 to 1992',\n",
       "       '1976 to 1996', '30 June 1983 to 23 July 1983', '1900 to 1924',\n",
       "       '1989 to 2003', '2010 to 2013', '2000 to 2001', '1993 to 2000',\n",
       "       '1996 to 1997', '1939 to 1951', '1973 to 1979', '1985 to 1989',\n",
       "       '1918 to 1924', '1912 to 1916', '1981 to 1985', '1989 to 2006',\n",
       "       '1997 to 2006', '1926 to 1927', '1977 to 1995', '1999 to 2003',\n",
       "       '1965 to 1977', '1917 to 1935', '2003 to 2004', '1880 to 1908',\n",
       "       '1960s to 1970s', '2007 to 2012', '2005 to 2009', '1991 to 1996',\n",
       "       '1982 to 1984', '1986 to 1996', '1988 to 1993', '1998 to 2006',\n",
       "       '2008 to 2011', '1920 to 1926', '1998', '1994 to 2002', '1974',\n",
       "       '1984 to 1987', '1996 to 2002', '1994 to 1995', '2001',\n",
       "       '2001 to 2003', '2004', '1992 to 2002', '2002 to 2010',\n",
       "       '1971 to 1983', '1987 to 2001', '1978 to 1991', '1987 to 1988',\n",
       "       '2008 to 2009', '1975 to 1998', '1948 to 1980', '1969 to 1982',\n",
       "       '1974 to 1987', '1997 to 1999', '2008 to 2015', '1911',\n",
       "       '1980 to 1983', '1986 to 1999', '1987 to 1998', '1950s to 1956',\n",
       "       '1983 to 1997', '1978 to 2001', '1933 to 1935', '1969 to 1979',\n",
       "       '1998 to 1999', '1992 to 2010', '1974 to 1986', '1967 to 2003',\n",
       "       '1970 to 2005', '1981 to 1983', '1978 to 1990', '1989 to 1996',\n",
       "       '1934 to 1935', '1982', '1983 to 2002', '1982 to 2000',\n",
       "       '1992 to 2006', '1995 to 2003', '1986 to 1997', '1965 to 1968',\n",
       "       '2011 to 2014', '1984 to 2005', '1971 to 1985', '1906 and earlier',\n",
       "       '1920 to 1930', '1972 to 1978', '1907 to 1934', '1921 to 1923',\n",
       "       '1982 to 1999', '1999 to 2006', '2011 to 2012'], dtype=object)"
      ]
     },
     "execution_count": 19,
     "metadata": {},
     "output_type": "execute_result"
    }
   ],
   "source": [
    "sk['Years active'].unique()"
   ]
  },
  {
   "cell_type": "code",
   "execution_count": 18,
   "id": "bebf14e2",
   "metadata": {},
   "outputs": [
    {
     "name": "stdout",
     "output_type": "stream",
     "text": [
      "1990  to  1999\n"
     ]
    }
   ],
   "source": [
    "x = '1990s'\n",
    "print(int(re.sub('s$','',x)),' to ', int(re.sub('s$','',x))+9)"
   ]
  },
  {
   "cell_type": "code",
   "execution_count": null,
   "id": "39fddb09",
   "metadata": {},
   "outputs": [],
   "source": []
  }
 ],
 "metadata": {
  "kernelspec": {
   "display_name": "Python 3 (ipykernel)",
   "language": "python",
   "name": "python3"
  },
  "language_info": {
   "codemirror_mode": {
    "name": "ipython",
    "version": 3
   },
   "file_extension": ".py",
   "mimetype": "text/x-python",
   "name": "python",
   "nbconvert_exporter": "python",
   "pygments_lexer": "ipython3",
   "version": "3.9.13"
  }
 },
 "nbformat": 4,
 "nbformat_minor": 5
}
