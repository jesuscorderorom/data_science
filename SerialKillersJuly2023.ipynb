{
 "cells": [
  {
   "cell_type": "code",
   "execution_count": 1,
   "id": "e984b2ce",
   "metadata": {},
   "outputs": [],
   "source": [
    "import pandas as pd\n",
    "import numpy as np\n",
    "import matplotlib.pyplot as plt\n",
    "import seaborn as sns\n",
    "import re"
   ]
  },
  {
   "cell_type": "code",
   "execution_count": 2,
   "id": "438cfc6d",
   "metadata": {},
   "outputs": [],
   "source": [
    "sk_less5 = pd.read_csv('Lessthan_5_victim_count.csv')\n",
    "sk_5to14 = pd.read_csv('5_to_14_victim_count.csv')\n",
    "sk_15to30 = pd.read_csv('15_to_30_victim_count.csv')\n",
    "sk_highest = pd.read_csv('Highest_victim_count.csv')\n",
    "sk = pd.concat([sk_less5,sk_5to14,sk_15to30,sk_highest], axis = 0)\n",
    "sk.reset_index(drop=True, inplace=True)"
   ]
  },
  {
   "cell_type": "code",
   "execution_count": 3,
   "id": "a70049e2",
   "metadata": {},
   "outputs": [
    {
     "data": {
      "text/html": [
       "<div>\n",
       "<style scoped>\n",
       "    .dataframe tbody tr th:only-of-type {\n",
       "        vertical-align: middle;\n",
       "    }\n",
       "\n",
       "    .dataframe tbody tr th {\n",
       "        vertical-align: top;\n",
       "    }\n",
       "\n",
       "    .dataframe thead th {\n",
       "        text-align: right;\n",
       "    }\n",
       "</style>\n",
       "<table border=\"1\" class=\"dataframe\">\n",
       "  <thead>\n",
       "    <tr style=\"text-align: right;\">\n",
       "      <th></th>\n",
       "      <th>Name</th>\n",
       "      <th>Country</th>\n",
       "      <th>Years active</th>\n",
       "      <th>Proven victims</th>\n",
       "      <th>Possible victims</th>\n",
       "      <th>Notes</th>\n",
       "    </tr>\n",
       "  </thead>\n",
       "  <tbody>\n",
       "    <tr>\n",
       "      <th>47</th>\n",
       "      <td>Sleepy Hollow Killer</td>\n",
       "      <td>South Africa</td>\n",
       "      <td>1990s to 2007</td>\n",
       "      <td>13</td>\n",
       "      <td>16+</td>\n",
       "      <td>Raped and murdered women, mostly sex workers, ...</td>\n",
       "    </tr>\n",
       "    <tr>\n",
       "      <th>112</th>\n",
       "      <td>David Randitsheni</td>\n",
       "      <td>South Africa</td>\n",
       "      <td>2004 to 2008</td>\n",
       "      <td>10</td>\n",
       "      <td>10+</td>\n",
       "      <td>Kidnapped 19 people, raped 17, and murdered 10...</td>\n",
       "    </tr>\n",
       "    <tr>\n",
       "      <th>283</th>\n",
       "      <td>Ivan Maleshoff</td>\n",
       "      <td>Soviet Union</td>\n",
       "      <td>1934 to 1935</td>\n",
       "      <td>50</td>\n",
       "      <td>50</td>\n",
       "      <td>Known as, \"Bluebeard of Kharkiv\"; Ivan Stepano...</td>\n",
       "    </tr>\n",
       "    <tr>\n",
       "      <th>198</th>\n",
       "      <td>Cedric Maake</td>\n",
       "      <td>South Africa</td>\n",
       "      <td>1996 to 1997</td>\n",
       "      <td>27</td>\n",
       "      <td>35+</td>\n",
       "      <td>Known as the \"Wemmer Pan Killer\" and \"Hammer K...</td>\n",
       "    </tr>\n",
       "    <tr>\n",
       "      <th>147</th>\n",
       "      <td>Rodney Alcala</td>\n",
       "      <td>United States</td>\n",
       "      <td>1971 to 1979</td>\n",
       "      <td>8</td>\n",
       "      <td>130+</td>\n",
       "      <td>Known as the \"Dating Game Killer\" for appearin...</td>\n",
       "    </tr>\n",
       "  </tbody>\n",
       "</table>\n",
       "</div>"
      ],
      "text/plain": [
       "                     Name        Country   Years active Proven victims  \\\n",
       "47   Sleepy Hollow Killer   South Africa  1990s to 2007             13   \n",
       "112     David Randitsheni   South Africa   2004 to 2008             10   \n",
       "283        Ivan Maleshoff   Soviet Union   1934 to 1935             50   \n",
       "198          Cedric Maake   South Africa   1996 to 1997             27   \n",
       "147         Rodney Alcala  United States   1971 to 1979              8   \n",
       "\n",
       "    Possible victims                                              Notes  \n",
       "47               16+  Raped and murdered women, mostly sex workers, ...  \n",
       "112              10+  Kidnapped 19 people, raped 17, and murdered 10...  \n",
       "283               50  Known as, \"Bluebeard of Kharkiv\"; Ivan Stepano...  \n",
       "198              35+  Known as the \"Wemmer Pan Killer\" and \"Hammer K...  \n",
       "147             130+  Known as the \"Dating Game Killer\" for appearin...  "
      ]
     },
     "execution_count": 3,
     "metadata": {},
     "output_type": "execute_result"
    }
   ],
   "source": [
    "sk.sample(n=5)\n",
    "# Looks like everything is fine"
   ]
  },
  {
   "cell_type": "code",
   "execution_count": 4,
   "id": "7a48e551",
   "metadata": {},
   "outputs": [
    {
     "name": "stdout",
     "output_type": "stream",
     "text": [
      "<class 'pandas.core.frame.DataFrame'>\n",
      "RangeIndex: 305 entries, 0 to 304\n",
      "Data columns (total 6 columns):\n",
      " #   Column            Non-Null Count  Dtype \n",
      "---  ------            --------------  ----- \n",
      " 0   Name              305 non-null    object\n",
      " 1   Country           305 non-null    object\n",
      " 2   Years active      305 non-null    object\n",
      " 3   Proven victims    305 non-null    object\n",
      " 4   Possible victims  237 non-null    object\n",
      " 5   Notes             305 non-null    object\n",
      "dtypes: object(6)\n",
      "memory usage: 14.4+ KB\n"
     ]
    }
   ],
   "source": [
    "sk.info()"
   ]
  },
  {
   "cell_type": "markdown",
   "id": "ecef6578",
   "metadata": {},
   "source": [
    "Dado que todos las columnas son de tipo object voy a ver cuáles son los valores únicos para cada columna."
   ]
  },
  {
   "cell_type": "markdown",
   "id": "63c31ea1",
   "metadata": {},
   "source": [
    "### Country"
   ]
  },
  {
   "cell_type": "code",
   "execution_count": 5,
   "id": "b1273ab5",
   "metadata": {
    "scrolled": true
   },
   "outputs": [
    {
     "data": {
      "text/plain": [
       "array(['United States',\n",
       "       'United Kingdom\\r\\nIreland (suspected)\\r\\nWest Germany (suspected)\\r\\nNetherlands (suspected)\\r\\nFrance (suspected)',\n",
       "       'Austria', 'Italy', 'Indonesia', 'Soviet Union', 'United Kingdom',\n",
       "       'Mexico', 'Allied-occupied Germany\\r\\nWest Germany', 'Netherlands',\n",
       "       'Japan', 'Turkey', 'Poland', 'West Germany', 'Brazil', 'Chile',\n",
       "       'Russia', 'South Korea', 'Pakistan', 'Latvia', 'South Africa',\n",
       "       'Argentina', 'Soviet Union\\r\\nRussia', 'Tunisia', 'Germany',\n",
       "       'Thailand\\r\\nNepal\\r\\nIndia\\r\\nMalaysia', 'Yemen', 'Spain',\n",
       "       'Australia', 'China', 'Austria\\r\\nUnited States\\r\\nCzechoslovakia',\n",
       "       'Canada', 'France', 'Bangladesh', 'Belgium', 'Ukraine', 'India',\n",
       "       'Soviet Union\\r\\nRussia\\r\\nUkraine',\n",
       "       'East Germany\\r\\nGermany\\r\\nFrance\\r\\nSpain\\r\\nCzech Republic (suspected)\\r\\nItaly (suspected)',\n",
       "       'German Empire\\r\\nGermany', 'Denmark', 'China\\r\\nJapan',\n",
       "       'Spain\\r\\nFrance (claimed)\\r\\nItaly (claimed)',\n",
       "       'Canada\\r\\nUnited States', 'Colombia', 'Cyprus', 'Belarus',\n",
       "       'Costa Rica', 'United States\\r\\n Portuguese Angola',\n",
       "       'Switzerland\\r\\nFrance\\r\\nUnited States\\r\\nYugoslavia (suspected)\\r\\nItaly (suspected)',\n",
       "       'Czechoslovakia', 'Singapore', 'Swaziland', 'Greece',\n",
       "       'Austria-Hungary', 'Iran',\n",
       "       'France\\r\\nGermany (suspected)\\r\\nSwitzerland (suspected)',\n",
       "       'Ecuador', 'United States\\r\\nCanada',\n",
       "       'Soviet Union\\r\\nRussia\\r\\nTajikistan', 'Romania', 'Afghanistan',\n",
       "       'Peru', 'France\\r\\nBelgium', 'Venezuela',\n",
       "       'United States\\r\\nMexico', 'Colombia\\r\\nEcuador\\r\\nVenezuela',\n",
       "       'Colombia\\r\\nPeru\\r\\nEcuador',\n",
       "       'Colombia\\r\\nEcuador\\r\\nBrazil (alleged)',\n",
       "       'Soviet Union\\r\\nUkraine', 'Morocco',\n",
       "       'Kingdom of Romania\\r\\nYugoslavia\\r\\nHungary (alleged)',\n",
       "       'Ottoman Empire\\r\\n Iraq\\r\\n Iran', 'Egypt'], dtype=object)"
      ]
     },
     "execution_count": 5,
     "metadata": {},
     "output_type": "execute_result"
    }
   ],
   "source": [
    "sk.Country.unique()"
   ]
  },
  {
   "cell_type": "code",
   "execution_count": 6,
   "id": "16d304a4",
   "metadata": {},
   "outputs": [],
   "source": [
    "sk['Countries_active'] = sk.Country.apply(lambda x: x.split('\\r\\n'))"
   ]
  },
  {
   "cell_type": "code",
   "execution_count": 7,
   "id": "5caac7f6",
   "metadata": {},
   "outputs": [],
   "source": [
    "sk['Countries_num'] = sk['Countries_active'].apply(lambda x: len(x))"
   ]
  },
  {
   "cell_type": "code",
   "execution_count": 8,
   "id": "c1864385",
   "metadata": {},
   "outputs": [
    {
     "data": {
      "text/html": [
       "<div>\n",
       "<style scoped>\n",
       "    .dataframe tbody tr th:only-of-type {\n",
       "        vertical-align: middle;\n",
       "    }\n",
       "\n",
       "    .dataframe tbody tr th {\n",
       "        vertical-align: top;\n",
       "    }\n",
       "\n",
       "    .dataframe thead th {\n",
       "        text-align: right;\n",
       "    }\n",
       "</style>\n",
       "<table border=\"1\" class=\"dataframe\">\n",
       "  <thead>\n",
       "    <tr style=\"text-align: right;\">\n",
       "      <th></th>\n",
       "      <th>Name</th>\n",
       "      <th>Country</th>\n",
       "      <th>Years active</th>\n",
       "      <th>Proven victims</th>\n",
       "      <th>Possible victims</th>\n",
       "      <th>Notes</th>\n",
       "      <th>Countries_active</th>\n",
       "      <th>Countries_num</th>\n",
       "    </tr>\n",
       "  </thead>\n",
       "  <tbody>\n",
       "    <tr>\n",
       "      <th>0</th>\n",
       "      <td>Charlie Brandt</td>\n",
       "      <td>United States</td>\n",
       "      <td>1971 to 2004</td>\n",
       "      <td>4</td>\n",
       "      <td>29</td>\n",
       "      <td>Committed suicide by hanging after murdering h...</td>\n",
       "      <td>[United States]</td>\n",
       "      <td>1</td>\n",
       "    </tr>\n",
       "    <tr>\n",
       "      <th>1</th>\n",
       "      <td>Robert Black</td>\n",
       "      <td>United Kingdom\\r\\nIreland (suspected)\\r\\nWest ...</td>\n",
       "      <td>1981 to 1986</td>\n",
       "      <td>4</td>\n",
       "      <td>18+</td>\n",
       "      <td>Convicted of kidnapping, raping and murdering ...</td>\n",
       "      <td>[United Kingdom, Ireland (suspected), West Ger...</td>\n",
       "      <td>5</td>\n",
       "    </tr>\n",
       "    <tr>\n",
       "      <th>2</th>\n",
       "      <td>Max Gufler</td>\n",
       "      <td>Austria</td>\n",
       "      <td>1946 to 1958</td>\n",
       "      <td>4</td>\n",
       "      <td>18</td>\n",
       "      <td>Poisoned and drowned four women, but suspected...</td>\n",
       "      <td>[Austria]</td>\n",
       "      <td>1</td>\n",
       "    </tr>\n",
       "    <tr>\n",
       "      <th>3</th>\n",
       "      <td>Ernesto Picchioni</td>\n",
       "      <td>Italy</td>\n",
       "      <td>1949 and earlier</td>\n",
       "      <td>4</td>\n",
       "      <td>16</td>\n",
       "      <td>Murdered people who approached his home; died ...</td>\n",
       "      <td>[Italy]</td>\n",
       "      <td>1</td>\n",
       "    </tr>\n",
       "    <tr>\n",
       "      <th>4</th>\n",
       "      <td>Baekuni</td>\n",
       "      <td>Indonesia</td>\n",
       "      <td>1993 to 2010</td>\n",
       "      <td>4</td>\n",
       "      <td>14</td>\n",
       "      <td>Pedophile who raped and killed young boys; ini...</td>\n",
       "      <td>[Indonesia]</td>\n",
       "      <td>1</td>\n",
       "    </tr>\n",
       "  </tbody>\n",
       "</table>\n",
       "</div>"
      ],
      "text/plain": [
       "                Name                                            Country  \\\n",
       "0     Charlie Brandt                                      United States   \n",
       "1       Robert Black  United Kingdom\\r\\nIreland (suspected)\\r\\nWest ...   \n",
       "2         Max Gufler                                            Austria   \n",
       "3  Ernesto Picchioni                                              Italy   \n",
       "4            Baekuni                                          Indonesia   \n",
       "\n",
       "       Years active Proven victims Possible victims  \\\n",
       "0      1971 to 2004              4               29   \n",
       "1      1981 to 1986              4              18+   \n",
       "2      1946 to 1958              4               18   \n",
       "3  1949 and earlier              4               16   \n",
       "4      1993 to 2010              4               14   \n",
       "\n",
       "                                               Notes  \\\n",
       "0  Committed suicide by hanging after murdering h...   \n",
       "1  Convicted of kidnapping, raping and murdering ...   \n",
       "2  Poisoned and drowned four women, but suspected...   \n",
       "3  Murdered people who approached his home; died ...   \n",
       "4  Pedophile who raped and killed young boys; ini...   \n",
       "\n",
       "                                    Countries_active  Countries_num  \n",
       "0                                    [United States]              1  \n",
       "1  [United Kingdom, Ireland (suspected), West Ger...              5  \n",
       "2                                          [Austria]              1  \n",
       "3                                            [Italy]              1  \n",
       "4                                        [Indonesia]              1  "
      ]
     },
     "execution_count": 8,
     "metadata": {},
     "output_type": "execute_result"
    }
   ],
   "source": [
    "sk.head()"
   ]
  },
  {
   "cell_type": "markdown",
   "id": "f2828352",
   "metadata": {},
   "source": [
    "### Proven victims"
   ]
  },
  {
   "cell_type": "code",
   "execution_count": 9,
   "id": "695012b6",
   "metadata": {},
   "outputs": [
    {
     "data": {
      "text/plain": [
       "array([4, 3, '14', '13', '12', '11–16', '11', '10', '9–13', '9', '8',\n",
       "       '8–15', '8–11+', '7', '6', '5', 30, 28, 27, 26, 25, 24, 23, 22, 21,\n",
       "       20, 19, 18, 17, 16, 15, 138, 110, 100, 83, 72, 71, 70, 67, 60, 58,\n",
       "       53, 52, 50, 49, 48, 45, 42, 41, 39, 38, 36, 35, 33, 32],\n",
       "      dtype=object)"
      ]
     },
     "execution_count": 9,
     "metadata": {},
     "output_type": "execute_result"
    }
   ],
   "source": [
    "sk['Proven victims'].unique()"
   ]
  },
  {
   "cell_type": "code",
   "execution_count": 10,
   "id": "c48a37a9",
   "metadata": {
    "scrolled": true
   },
   "outputs": [
    {
     "data": {
      "text/html": [
       "<div>\n",
       "<style scoped>\n",
       "    .dataframe tbody tr th:only-of-type {\n",
       "        vertical-align: middle;\n",
       "    }\n",
       "\n",
       "    .dataframe tbody tr th {\n",
       "        vertical-align: top;\n",
       "    }\n",
       "\n",
       "    .dataframe thead th {\n",
       "        text-align: right;\n",
       "    }\n",
       "</style>\n",
       "<table border=\"1\" class=\"dataframe\">\n",
       "  <thead>\n",
       "    <tr style=\"text-align: right;\">\n",
       "      <th></th>\n",
       "      <th>Name</th>\n",
       "      <th>Country</th>\n",
       "      <th>Years active</th>\n",
       "      <th>Proven victims</th>\n",
       "      <th>Possible victims</th>\n",
       "      <th>Notes</th>\n",
       "      <th>Countries_active</th>\n",
       "      <th>Countries_num</th>\n",
       "    </tr>\n",
       "  </thead>\n",
       "  <tbody>\n",
       "    <tr>\n",
       "      <th>79</th>\n",
       "      <td>Herb Baumeister</td>\n",
       "      <td>United States</td>\n",
       "      <td>1990 to 1996</td>\n",
       "      <td>11–16</td>\n",
       "      <td>25+</td>\n",
       "      <td>Strangled gay men and buried their bodies in h...</td>\n",
       "      <td>[United States]</td>\n",
       "      <td>1</td>\n",
       "    </tr>\n",
       "    <tr>\n",
       "      <th>126</th>\n",
       "      <td>Volker Eckert</td>\n",
       "      <td>East Germany\\r\\nGermany\\r\\nFrance\\r\\nSpain\\r\\n...</td>\n",
       "      <td>1974 to 2006</td>\n",
       "      <td>9–13</td>\n",
       "      <td>19+</td>\n",
       "      <td>German trucker who confessed to having abducte...</td>\n",
       "      <td>[East Germany, Germany, France, Spain, Czech R...</td>\n",
       "      <td>6</td>\n",
       "    </tr>\n",
       "    <tr>\n",
       "      <th>144</th>\n",
       "      <td>Joseph Paul Franklin</td>\n",
       "      <td>United States</td>\n",
       "      <td>1977 to 1980</td>\n",
       "      <td>8–15</td>\n",
       "      <td>20</td>\n",
       "      <td>White supremacist shooter who confessed to 20 ...</td>\n",
       "      <td>[United States]</td>\n",
       "      <td>1</td>\n",
       "    </tr>\n",
       "    <tr>\n",
       "      <th>145</th>\n",
       "      <td>Yoshio Kodaira</td>\n",
       "      <td>China\\r\\nJapan</td>\n",
       "      <td>1928? to 1946</td>\n",
       "      <td>8–11+</td>\n",
       "      <td>Unknown</td>\n",
       "      <td>A serial rapist, Kodaira killed his father-in-...</td>\n",
       "      <td>[China, Japan]</td>\n",
       "      <td>2</td>\n",
       "    </tr>\n",
       "  </tbody>\n",
       "</table>\n",
       "</div>"
      ],
      "text/plain": [
       "                     Name                                            Country  \\\n",
       "79        Herb Baumeister                                      United States   \n",
       "126         Volker Eckert  East Germany\\r\\nGermany\\r\\nFrance\\r\\nSpain\\r\\n...   \n",
       "144  Joseph Paul Franklin                                      United States   \n",
       "145        Yoshio Kodaira                                     China\\r\\nJapan   \n",
       "\n",
       "      Years active Proven victims Possible victims  \\\n",
       "79    1990 to 1996          11–16              25+   \n",
       "126   1974 to 2006           9–13              19+   \n",
       "144   1977 to 1980           8–15               20   \n",
       "145  1928? to 1946          8–11+          Unknown   \n",
       "\n",
       "                                                 Notes  \\\n",
       "79   Strangled gay men and buried their bodies in h...   \n",
       "126  German trucker who confessed to having abducte...   \n",
       "144  White supremacist shooter who confessed to 20 ...   \n",
       "145  A serial rapist, Kodaira killed his father-in-...   \n",
       "\n",
       "                                      Countries_active  Countries_num  \n",
       "79                                     [United States]              1  \n",
       "126  [East Germany, Germany, France, Spain, Czech R...              6  \n",
       "144                                    [United States]              1  \n",
       "145                                     [China, Japan]              2  "
      ]
     },
     "execution_count": 10,
     "metadata": {},
     "output_type": "execute_result"
    }
   ],
   "source": [
    "sk[(sk['Proven victims'] == '11–16') | (sk['Proven victims'] == '9–13') | (sk['Proven victims'] == '8–15') | (sk['Proven victims'] == '8–11+')]"
   ]
  },
  {
   "cell_type": "code",
   "execution_count": 11,
   "id": "96253060",
   "metadata": {},
   "outputs": [],
   "source": [
    "sk['Proven_victims'] = sk['Proven victims'].apply(lambda x: max([int(i) for i in str(re.sub('\\+$', '', str(x))).split('–')]))"
   ]
  },
  {
   "cell_type": "markdown",
   "id": "46b70daa",
   "metadata": {},
   "source": [
    "### Possible victims"
   ]
  },
  {
   "cell_type": "code",
   "execution_count": 12,
   "id": "1079cde3",
   "metadata": {},
   "outputs": [
    {
     "data": {
      "text/plain": [
       "array(['29', '18+', '18', '16', '14', '13', '12', '11+', '4+', '4', '3',\n",
       "       '50+', '48', '30', '20+', '17', '10', '9–25', '-', '9-100+', '8+',\n",
       "       '3+', '80+', '21+', nan, '44', '40+', '38+', '20', '16+', '15',\n",
       "       '13+', '100', '31–80+', '22', '15–16', 'Unknown', '25+', '29–49',\n",
       "       '17–20', '25', '11', '10+', '19+', '79', '34', '14+', '160',\n",
       "       '130+', '12+', '50–100', '43+', '23–37', '7', '70?', '15+', '6+',\n",
       "       '85–100', '37', '17–25', '5–22', '42+', '42', '45', '28', '35+',\n",
       "       '27+', '26', '24+', '24', '150', '23+', '23', '36+', '26+', '21',\n",
       "       '82+', '30+', '19', '65–67', '172–300+', '300+', '83+', '180',\n",
       "       '100+', '70+', '67', '93', '80-300', '56', '52+', '50', '49',\n",
       "       '71–90+', '60', '60+', '70–80+', '41', '~39', '76', '80–100',\n",
       "       '43–55+', '~35', '36–100+', '35', '34+', '33', '32+', '32'],\n",
       "      dtype=object)"
      ]
     },
     "execution_count": 12,
     "metadata": {},
     "output_type": "execute_result"
    }
   ],
   "source": [
    "sk['Possible victims'].unique()"
   ]
  },
  {
   "cell_type": "code",
   "execution_count": 13,
   "id": "585fdc87",
   "metadata": {},
   "outputs": [],
   "source": [
    "sk['Possible victims'] = sk['Possible victims'].apply(lambda x: np.nan if ((x == 'Unknown') | (x== '-')) else x)"
   ]
  },
  {
   "cell_type": "code",
   "execution_count": 14,
   "id": "2211a861",
   "metadata": {},
   "outputs": [],
   "source": [
    "sk['Possible_victims'] = sk['Possible victims'].apply(lambda x: x if pd.isna(x) else \n",
    "                                                      str(re.sub('\\+$|^\\~|\\?', '', str(x))))"
   ]
  },
  {
   "cell_type": "code",
   "execution_count": 15,
   "id": "f4e2481b",
   "metadata": {
    "scrolled": true
   },
   "outputs": [],
   "source": [
    "sk['Possible_victims'] = sk['Possible_victims'].apply(lambda x: x if pd.isna(x) else \n",
    "                             sum([int(i) for i in re.split('–|-',str(x))])/len(str(re.sub('\\+$', '', str(x))).split('–'))).round(0)"
   ]
  },
  {
   "cell_type": "code",
   "execution_count": 16,
   "id": "5242fb8c",
   "metadata": {},
   "outputs": [
    {
     "data": {
      "text/html": [
       "<div>\n",
       "<style scoped>\n",
       "    .dataframe tbody tr th:only-of-type {\n",
       "        vertical-align: middle;\n",
       "    }\n",
       "\n",
       "    .dataframe tbody tr th {\n",
       "        vertical-align: top;\n",
       "    }\n",
       "\n",
       "    .dataframe thead th {\n",
       "        text-align: right;\n",
       "    }\n",
       "</style>\n",
       "<table border=\"1\" class=\"dataframe\">\n",
       "  <thead>\n",
       "    <tr style=\"text-align: right;\">\n",
       "      <th></th>\n",
       "      <th>Name</th>\n",
       "      <th>Country</th>\n",
       "      <th>Years active</th>\n",
       "      <th>Proven victims</th>\n",
       "      <th>Possible victims</th>\n",
       "      <th>Notes</th>\n",
       "      <th>Countries_active</th>\n",
       "      <th>Countries_num</th>\n",
       "      <th>Proven_victims</th>\n",
       "      <th>Possible_victims</th>\n",
       "    </tr>\n",
       "  </thead>\n",
       "  <tbody>\n",
       "    <tr>\n",
       "      <th>0</th>\n",
       "      <td>Charlie Brandt</td>\n",
       "      <td>United States</td>\n",
       "      <td>1971 to 2004</td>\n",
       "      <td>4</td>\n",
       "      <td>29</td>\n",
       "      <td>Committed suicide by hanging after murdering h...</td>\n",
       "      <td>[United States]</td>\n",
       "      <td>1</td>\n",
       "      <td>4</td>\n",
       "      <td>29.0</td>\n",
       "    </tr>\n",
       "    <tr>\n",
       "      <th>1</th>\n",
       "      <td>Robert Black</td>\n",
       "      <td>United Kingdom\\r\\nIreland (suspected)\\r\\nWest ...</td>\n",
       "      <td>1981 to 1986</td>\n",
       "      <td>4</td>\n",
       "      <td>18+</td>\n",
       "      <td>Convicted of kidnapping, raping and murdering ...</td>\n",
       "      <td>[United Kingdom, Ireland (suspected), West Ger...</td>\n",
       "      <td>5</td>\n",
       "      <td>4</td>\n",
       "      <td>18.0</td>\n",
       "    </tr>\n",
       "    <tr>\n",
       "      <th>2</th>\n",
       "      <td>Max Gufler</td>\n",
       "      <td>Austria</td>\n",
       "      <td>1946 to 1958</td>\n",
       "      <td>4</td>\n",
       "      <td>18</td>\n",
       "      <td>Poisoned and drowned four women, but suspected...</td>\n",
       "      <td>[Austria]</td>\n",
       "      <td>1</td>\n",
       "      <td>4</td>\n",
       "      <td>18.0</td>\n",
       "    </tr>\n",
       "    <tr>\n",
       "      <th>3</th>\n",
       "      <td>Ernesto Picchioni</td>\n",
       "      <td>Italy</td>\n",
       "      <td>1949 and earlier</td>\n",
       "      <td>4</td>\n",
       "      <td>16</td>\n",
       "      <td>Murdered people who approached his home; died ...</td>\n",
       "      <td>[Italy]</td>\n",
       "      <td>1</td>\n",
       "      <td>4</td>\n",
       "      <td>16.0</td>\n",
       "    </tr>\n",
       "    <tr>\n",
       "      <th>4</th>\n",
       "      <td>Baekuni</td>\n",
       "      <td>Indonesia</td>\n",
       "      <td>1993 to 2010</td>\n",
       "      <td>4</td>\n",
       "      <td>14</td>\n",
       "      <td>Pedophile who raped and killed young boys; ini...</td>\n",
       "      <td>[Indonesia]</td>\n",
       "      <td>1</td>\n",
       "      <td>4</td>\n",
       "      <td>14.0</td>\n",
       "    </tr>\n",
       "  </tbody>\n",
       "</table>\n",
       "</div>"
      ],
      "text/plain": [
       "                Name                                            Country  \\\n",
       "0     Charlie Brandt                                      United States   \n",
       "1       Robert Black  United Kingdom\\r\\nIreland (suspected)\\r\\nWest ...   \n",
       "2         Max Gufler                                            Austria   \n",
       "3  Ernesto Picchioni                                              Italy   \n",
       "4            Baekuni                                          Indonesia   \n",
       "\n",
       "       Years active Proven victims Possible victims  \\\n",
       "0      1971 to 2004              4               29   \n",
       "1      1981 to 1986              4              18+   \n",
       "2      1946 to 1958              4               18   \n",
       "3  1949 and earlier              4               16   \n",
       "4      1993 to 2010              4               14   \n",
       "\n",
       "                                               Notes  \\\n",
       "0  Committed suicide by hanging after murdering h...   \n",
       "1  Convicted of kidnapping, raping and murdering ...   \n",
       "2  Poisoned and drowned four women, but suspected...   \n",
       "3  Murdered people who approached his home; died ...   \n",
       "4  Pedophile who raped and killed young boys; ini...   \n",
       "\n",
       "                                    Countries_active  Countries_num  \\\n",
       "0                                    [United States]              1   \n",
       "1  [United Kingdom, Ireland (suspected), West Ger...              5   \n",
       "2                                          [Austria]              1   \n",
       "3                                            [Italy]              1   \n",
       "4                                        [Indonesia]              1   \n",
       "\n",
       "   Proven_victims  Possible_victims  \n",
       "0               4              29.0  \n",
       "1               4              18.0  \n",
       "2               4              18.0  \n",
       "3               4              16.0  \n",
       "4               4              14.0  "
      ]
     },
     "execution_count": 16,
     "metadata": {},
     "output_type": "execute_result"
    }
   ],
   "source": [
    "sk.head()"
   ]
  },
  {
   "cell_type": "markdown",
   "id": "8d7996b1",
   "metadata": {},
   "source": [
    "### Years active"
   ]
  },
  {
   "cell_type": "code",
   "execution_count": 17,
   "id": "6b798b88",
   "metadata": {},
   "outputs": [],
   "source": [
    "sk['Years active'] = sk['Years active'].apply(lambda x: re.sub('\\?|c\\.','',str(x)))"
   ]
  },
  {
   "cell_type": "code",
   "execution_count": null,
   "id": "94925faf",
   "metadata": {},
   "outputs": [],
   "source": []
  },
  {
   "cell_type": "code",
   "execution_count": 30,
   "id": "bebf14e2",
   "metadata": {},
   "outputs": [
    {
     "name": "stdout",
     "output_type": "stream",
     "text": [
      "1990  to  1999\n"
     ]
    }
   ],
   "source": [
    "x = '1990s'\n",
    "print(int(re.sub('s$','',x)),' to ', int(re.sub('s$','',x))+9)"
   ]
  },
  {
   "cell_type": "code",
   "execution_count": null,
   "id": "39fddb09",
   "metadata": {},
   "outputs": [],
   "source": []
  }
 ],
 "metadata": {
  "kernelspec": {
   "display_name": "Python 3 (ipykernel)",
   "language": "python",
   "name": "python3"
  },
  "language_info": {
   "codemirror_mode": {
    "name": "ipython",
    "version": 3
   },
   "file_extension": ".py",
   "mimetype": "text/x-python",
   "name": "python",
   "nbconvert_exporter": "python",
   "pygments_lexer": "ipython3",
   "version": "3.9.13"
  }
 },
 "nbformat": 4,
 "nbformat_minor": 5
}
